{
 "cells": [
  {
   "cell_type": "markdown",
   "id": "d107db2b",
   "metadata": {},
   "source": [
    "# Generators"
   ]
  },
  {
   "cell_type": "markdown",
   "id": "24a161b5",
   "metadata": {},
   "source": [
    "## Key ideas"
   ]
  },
  {
   "cell_type": "code",
   "execution_count": 1,
   "id": "30ae48ff",
   "metadata": {},
   "outputs": [
    {
     "data": {
      "text/plain": [
       "[1, 4, 9, 16, 25]"
      ]
     },
     "execution_count": 1,
     "metadata": {},
     "output_type": "execute_result"
    }
   ],
   "source": [
    "# Return the square number of each item in a list\n",
    "def square_numbers(nums):\n",
    "    result = []\n",
    "    for i in nums:\n",
    "        result.append(i*i)\n",
    "    return result\n",
    "\n",
    "my_nums = square_numbers([1,2,3,4,5])\n",
    "my_nums"
   ]
  },
  {
   "cell_type": "code",
   "execution_count": 2,
   "id": "49e0ba93",
   "metadata": {},
   "outputs": [
    {
     "data": {
      "text/plain": [
       "<generator object square_numbers_generator at 0x000001D9BEECF5A0>"
      ]
     },
     "execution_count": 2,
     "metadata": {},
     "output_type": "execute_result"
    }
   ],
   "source": [
    "# Convert the func above to a generator\n",
    "def square_numbers_generator(nums):\n",
    "    for i in nums:\n",
    "        yield(i*i)\n",
    "    \n",
    "my_nums = square_numbers_generator([1,2,3,4,5])\n",
    "my_nums"
   ]
  },
  {
   "cell_type": "markdown",
   "id": "b053da5d",
   "metadata": {},
   "source": [
    "The generator object doesn't hold the entire result in memory. It only yields one result at a time. It is waiting for us to ask for the next result."
   ]
  },
  {
   "cell_type": "code",
   "execution_count": 3,
   "id": "7b600883",
   "metadata": {},
   "outputs": [
    {
     "name": "stdout",
     "output_type": "stream",
     "text": [
      "1\n"
     ]
    }
   ],
   "source": [
    "# Print the next result\n",
    "print(next(my_nums))"
   ]
  },
  {
   "cell_type": "code",
   "execution_count": 4,
   "id": "49ed4ebe",
   "metadata": {},
   "outputs": [
    {
     "name": "stdout",
     "output_type": "stream",
     "text": [
      "4\n",
      "9\n",
      "16\n",
      "25\n"
     ]
    }
   ],
   "source": [
    "# Continue printing next results\n",
    "print(next(my_nums))\n",
    "print(next(my_nums))\n",
    "print(next(my_nums))\n",
    "print(next(my_nums))"
   ]
  },
  {
   "cell_type": "code",
   "execution_count": 5,
   "id": "35e6583d",
   "metadata": {},
   "outputs": [],
   "source": [
    "# Use for loop\n",
    "for num in my_nums:\n",
    "    print(num)"
   ]
  },
  {
   "cell_type": "code",
   "execution_count": 6,
   "id": "9c1f9d65",
   "metadata": {},
   "outputs": [
    {
     "name": "stdout",
     "output_type": "stream",
     "text": [
      "1\n",
      "4\n",
      "9\n",
      "16\n",
      "25\n"
     ]
    }
   ],
   "source": [
    "# Use the list comprehension\n",
    "my_nums = [x*x for x in [1,2,3,4,5]]\n",
    "\n",
    "for num in my_nums:\n",
    "    print(num)"
   ]
  },
  {
   "cell_type": "code",
   "execution_count": 7,
   "id": "b7efcc11",
   "metadata": {},
   "outputs": [
    {
     "data": {
      "text/plain": [
       "<generator object <genexpr> at 0x000001D9BEECFCA0>"
      ]
     },
     "execution_count": 7,
     "metadata": {},
     "output_type": "execute_result"
    }
   ],
   "source": [
    "# Turn the list comprehension above to generator\n",
    "my_nums = (x*x for x in [1,2,3,4,5])\n",
    "my_nums"
   ]
  },
  {
   "cell_type": "code",
   "execution_count": 8,
   "id": "a9556fa0",
   "metadata": {},
   "outputs": [
    {
     "name": "stdout",
     "output_type": "stream",
     "text": [
      "1\n",
      "4\n",
      "9\n",
      "16\n",
      "25\n"
     ]
    }
   ],
   "source": [
    "for num in my_nums:\n",
    "    print(num)"
   ]
  },
  {
   "cell_type": "markdown",
   "id": "1c4984d2",
   "metadata": {},
   "source": [
    "However if we convert the generator to a list, we will lose the performance advantages. If you have a list with thousands of items to loop through, that will cost your memory."
   ]
  },
  {
   "cell_type": "markdown",
   "id": "7b5da1b1",
   "metadata": {},
   "source": [
    "## 2. Benefits of using generators"
   ]
  },
  {
   "cell_type": "code",
   "execution_count": 9,
   "id": "7c65db8c",
   "metadata": {},
   "outputs": [
    {
     "name": "stdout",
     "output_type": "stream",
     "text": [
      "Requirement already satisfied: memory_profiler in c:\\users\\admin\\appdata\\local\\programs\\python\\python310\\lib\\site-packages (0.61.0)Note: you may need to restart the kernel to use updated packages.\n",
      "\n",
      "Requirement already satisfied: psutil in c:\\users\\admin\\appdata\\local\\programs\\python\\python310\\lib\\site-packages (from memory_profiler) (5.9.2)\n"
     ]
    }
   ],
   "source": [
    "pip install memory_profiler"
   ]
  },
  {
   "cell_type": "code",
   "execution_count": 10,
   "id": "a237d7e1",
   "metadata": {},
   "outputs": [],
   "source": [
    "import random, time, memory_profiler\n",
    "\n",
    "names = ['John', 'Corey', 'Adam', 'Steve', 'Rick', ' Thomas']\n",
    "majors = ['Math', 'Engineering', 'CompSci', 'Arts', 'Business']"
   ]
  },
  {
   "cell_type": "code",
   "execution_count": 11,
   "id": "000d9bf2",
   "metadata": {},
   "outputs": [
    {
     "name": "stdout",
     "output_type": "stream",
     "text": [
      "Memory (Before): [63.81640625]Mb \n"
     ]
    }
   ],
   "source": [
    "print('Memory (Before): {}Mb '.format(memory_profiler.memory_usage()))"
   ]
  },
  {
   "cell_type": "code",
   "execution_count": 12,
   "id": "37cb6f6f",
   "metadata": {},
   "outputs": [],
   "source": [
    "# Make a list of people: id, name, major\n",
    "def people_list(num_people):\n",
    "    results = []\n",
    "    for i in range(num_people):\n",
    "        person = {\n",
    "                    'id':i,\n",
    "                    'name': random.choice(names),\n",
    "                    'major':random.choice(majors)\n",
    "                  }\n",
    "        results.append(person)\n",
    "    return results\n",
    "\n",
    "# Create a generator: id, name, major \n",
    "def people_generator(num_people):\n",
    "    for i in xrange(num_people):\n",
    "        person = {\n",
    "                    'id':i,\n",
    "                    'name': random.choice(names),\n",
    "                    'major':random.choice(majors)\n",
    "                  }\n",
    "        yield person"
   ]
  },
  {
   "cell_type": "code",
   "execution_count": 13,
   "id": "dcedb83a",
   "metadata": {},
   "outputs": [
    {
     "name": "stdout",
     "output_type": "stream",
     "text": [
      "Memory (After): [1773.5390625]Mb \n",
      "Took 38.55489730834961 Seconds\n"
     ]
    }
   ],
   "source": [
    "# Calculate how long people_list runs        \n",
    "t1 = time.time()\n",
    "people = people_list(10000000)\n",
    "t2 = time.time()\n",
    "\n",
    "# Calculate how long people_list runs        \n",
    "print('Memory (After): {}Mb '.format(memory_profiler.memory_usage()))\n",
    "print('Took {} Seconds'.format(t2-t1))"
   ]
  },
  {
   "cell_type": "code",
   "execution_count": 14,
   "id": "ec4bd88f",
   "metadata": {},
   "outputs": [
    {
     "name": "stdout",
     "output_type": "stream",
     "text": [
      "Memory (After): [22.9453125]Mb \n",
      "Took 5.156267166137695 Seconds\n"
     ]
    }
   ],
   "source": [
    "# Calculate how long people_generator runs        \n",
    "t1 = time.time()\n",
    "people = people_generator(10000000)\n",
    "t2 = time.time()\n",
    "\n",
    "# Calculate how long people_generator runs        \n",
    "print('Memory (After): {}Mb '.format(memory_profiler.memory_usage()))\n",
    "print('Took {} Seconds'.format(t2-t1))"
   ]
  }
 ],
 "metadata": {
  "kernelspec": {
   "display_name": "Python 3 (ipykernel)",
   "language": "python",
   "name": "python3"
  },
  "language_info": {
   "codemirror_mode": {
    "name": "ipython",
    "version": 3
   },
   "file_extension": ".py",
   "mimetype": "text/x-python",
   "name": "python",
   "nbconvert_exporter": "python",
   "pygments_lexer": "ipython3",
   "version": "3.10.8"
  }
 },
 "nbformat": 4,
 "nbformat_minor": 5
}
