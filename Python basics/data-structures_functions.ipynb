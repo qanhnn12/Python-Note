{
 "cells": [
  {
   "cell_type": "markdown",
   "id": "244df6e2",
   "metadata": {},
   "source": [
    "# Data Structure"
   ]
  },
  {
   "cell_type": "markdown",
   "id": "c57e75f0",
   "metadata": {},
   "source": [
    "## 1. Tuple"
   ]
  },
  {
   "cell_type": "code",
   "id": "bc78af2e",
   "metadata": {
    "ExecuteTime": {
     "end_time": "2025-10-26T09:44:10.375639Z",
     "start_time": "2025-10-26T09:44:10.368317Z"
    }
   },
   "source": [
    "# Create a tuple by wrapping a comma-separated sequence of values in parentheses\n",
    "tup = (4, 5, 6)\n",
    "tup"
   ],
   "outputs": [
    {
     "data": {
      "text/plain": [
       "(4, 5, 6)"
      ]
     },
     "execution_count": 7,
     "metadata": {},
     "output_type": "execute_result"
    }
   ],
   "execution_count": 7
  },
  {
   "cell_type": "code",
   "id": "4df43281",
   "metadata": {
    "ExecuteTime": {
     "end_time": "2025-10-26T09:44:10.502225Z",
     "start_time": "2025-10-26T09:44:10.495248Z"
    }
   },
   "source": [
    "# Parentheses can be omitted\n",
    "tup = 4, 5, 6\n",
    "tup"
   ],
   "outputs": [
    {
     "data": {
      "text/plain": [
       "(4, 5, 6)"
      ]
     },
     "execution_count": 8,
     "metadata": {},
     "output_type": "execute_result"
    }
   ],
   "execution_count": 8
  },
  {
   "cell_type": "code",
   "id": "c7df69f6",
   "metadata": {
    "ExecuteTime": {
     "end_time": "2025-10-26T09:44:10.642376Z",
     "start_time": "2025-10-26T09:44:10.633066Z"
    }
   },
   "source": [
    "# Convert any sequence or iterator into a tuple\n",
    "tuple([4, 0 ,2])"
   ],
   "outputs": [
    {
     "data": {
      "text/plain": [
       "(4, 0, 2)"
      ]
     },
     "execution_count": 9,
     "metadata": {},
     "output_type": "execute_result"
    }
   ],
   "execution_count": 9
  },
  {
   "cell_type": "code",
   "id": "b1a8110a",
   "metadata": {
    "ExecuteTime": {
     "end_time": "2025-10-26T09:44:10.770658Z",
     "start_time": "2025-10-26T09:44:10.762546Z"
    }
   },
   "source": [
    "tup = tuple('string')\n",
    "tup"
   ],
   "outputs": [
    {
     "data": {
      "text/plain": [
       "('s', 't', 'r', 'i', 'n', 'g')"
      ]
     },
     "execution_count": 10,
     "metadata": {},
     "output_type": "execute_result"
    }
   ],
   "execution_count": 10
  },
  {
   "cell_type": "code",
   "id": "9733110a",
   "metadata": {
    "ExecuteTime": {
     "end_time": "2025-10-26T09:44:10.934285Z",
     "start_time": "2025-10-26T09:44:10.922714Z"
    }
   },
   "source": [
    "# Create a tuple of tuples\n",
    "nested_tup = (4, 5, 6), (7, 8)\n",
    "nested_tup"
   ],
   "outputs": [
    {
     "data": {
      "text/plain": [
       "((4, 5, 6), (7, 8))"
      ]
     },
     "execution_count": 11,
     "metadata": {},
     "output_type": "execute_result"
    }
   ],
   "execution_count": 11
  },
  {
   "cell_type": "code",
   "id": "5429cd4a",
   "metadata": {
    "ExecuteTime": {
     "end_time": "2025-10-26T09:44:11.060030Z",
     "start_time": "2025-10-26T09:44:11.051489Z"
    }
   },
   "source": [
    "# Slicing tuple\n",
    "nested_tup[0]"
   ],
   "outputs": [
    {
     "data": {
      "text/plain": [
       "(4, 5, 6)"
      ]
     },
     "execution_count": 12,
     "metadata": {},
     "output_type": "execute_result"
    }
   ],
   "execution_count": 12
  },
  {
   "cell_type": "code",
   "id": "742033ea",
   "metadata": {
    "ExecuteTime": {
     "end_time": "2025-10-26T09:44:12.142007Z",
     "start_time": "2025-10-26T09:44:11.193768Z"
    }
   },
   "source": [
    "# Tuple is immutable\n",
    "tup = tuple(['foo', [1, 2], True])\n",
    "tup[2] = False"
   ],
   "outputs": [
    {
     "ename": "TypeError",
     "evalue": "'tuple' object does not support item assignment",
     "output_type": "error",
     "traceback": [
      "\u001B[1;31m---------------------------------------------------------------------------\u001B[0m",
      "\u001B[1;31mTypeError\u001B[0m                                 Traceback (most recent call last)",
      "Cell \u001B[1;32mIn[13], line 3\u001B[0m\n\u001B[0;32m      1\u001B[0m \u001B[38;5;66;03m# Tuple is immutable\u001B[39;00m\n\u001B[0;32m      2\u001B[0m tup \u001B[38;5;241m=\u001B[39m \u001B[38;5;28mtuple\u001B[39m([\u001B[38;5;124m'\u001B[39m\u001B[38;5;124mfoo\u001B[39m\u001B[38;5;124m'\u001B[39m, [\u001B[38;5;241m1\u001B[39m, \u001B[38;5;241m2\u001B[39m], \u001B[38;5;28;01mTrue\u001B[39;00m])\n\u001B[1;32m----> 3\u001B[0m tup[\u001B[38;5;241m2\u001B[39m] \u001B[38;5;241m=\u001B[39m \u001B[38;5;28;01mFalse\u001B[39;00m\n",
      "\u001B[1;31mTypeError\u001B[0m: 'tuple' object does not support item assignment"
     ]
    }
   ],
   "execution_count": 13
  },
  {
   "cell_type": "code",
   "id": "08b47626",
   "metadata": {
    "ExecuteTime": {
     "end_time": "2025-10-26T09:44:25.922455Z",
     "start_time": "2025-10-26T09:44:25.912896Z"
    }
   },
   "source": [
    "# If an object inside a tuple is mutable (list), we can modify it\n",
    "tup[1].append(3)\n",
    "tup"
   ],
   "outputs": [
    {
     "data": {
      "text/plain": [
       "('foo', [1, 2, 3], True)"
      ]
     },
     "execution_count": 14,
     "metadata": {},
     "output_type": "execute_result"
    }
   ],
   "execution_count": 14
  },
  {
   "cell_type": "code",
   "id": "39fd1066",
   "metadata": {
    "ExecuteTime": {
     "end_time": "2025-10-26T09:44:28.340486Z",
     "start_time": "2025-10-26T09:44:28.328895Z"
    }
   },
   "source": [
    "# Concatenate tuples using the + operator\n",
    "(4, None, 'foo') + (6, 9) + ('bar',)"
   ],
   "outputs": [
    {
     "data": {
      "text/plain": [
       "(4, None, 'foo', 6, 9, 'bar')"
      ]
     },
     "execution_count": 15,
     "metadata": {},
     "output_type": "execute_result"
    }
   ],
   "execution_count": 15
  },
  {
   "cell_type": "code",
   "id": "873d344b",
   "metadata": {
    "ExecuteTime": {
     "end_time": "2025-10-26T09:44:30.062027Z",
     "start_time": "2025-10-26T09:44:30.050963Z"
    }
   },
   "source": [
    "# Create many copies of tuples with *\n",
    "('foo', 'bar') * 4"
   ],
   "outputs": [
    {
     "data": {
      "text/plain": [
       "('foo', 'bar', 'foo', 'bar', 'foo', 'bar', 'foo', 'bar')"
      ]
     },
     "execution_count": 16,
     "metadata": {},
     "output_type": "execute_result"
    }
   ],
   "execution_count": 16
  },
  {
   "cell_type": "markdown",
   "id": "4665dc3b",
   "metadata": {},
   "source": [
    "### Unpacking tuples"
   ]
  },
  {
   "cell_type": "code",
   "id": "21bab42e",
   "metadata": {
    "ExecuteTime": {
     "end_time": "2025-10-26T09:44:36.862170Z",
     "start_time": "2025-10-26T09:44:36.853917Z"
    }
   },
   "source": [
    "# Unpack the value on the righthand side\n",
    "tup = (4, 5, 6)\n",
    "a, b, c = tup\n",
    "b"
   ],
   "outputs": [
    {
     "data": {
      "text/plain": [
       "5"
      ]
     },
     "execution_count": 17,
     "metadata": {},
     "output_type": "execute_result"
    }
   ],
   "execution_count": 17
  },
  {
   "cell_type": "code",
   "id": "a9f3a54f",
   "metadata": {
    "ExecuteTime": {
     "end_time": "2025-10-26T09:44:42.758670Z",
     "start_time": "2025-10-26T09:44:42.751835Z"
    }
   },
   "source": [
    "# Unpack sequences with nested tuples\n",
    "tup = 4, 5, (6, 7)\n",
    "a, b, (c, d) = tup\n",
    "d"
   ],
   "outputs": [
    {
     "data": {
      "text/plain": [
       "7"
      ]
     },
     "execution_count": 18,
     "metadata": {},
     "output_type": "execute_result"
    }
   ],
   "execution_count": 18
  },
  {
   "cell_type": "code",
   "id": "67e3bd8d",
   "metadata": {
    "ExecuteTime": {
     "end_time": "2025-10-26T09:44:45.944127Z",
     "start_time": "2025-10-26T09:44:45.932233Z"
    }
   },
   "source": [
    "# Swap variables\n",
    "a, b = 1, 2\n",
    "print(a)\n",
    "print(b)"
   ],
   "outputs": [
    {
     "name": "stdout",
     "output_type": "stream",
     "text": [
      "1\n",
      "2\n"
     ]
    }
   ],
   "execution_count": 19
  },
  {
   "cell_type": "code",
   "id": "f68ab396",
   "metadata": {
    "ExecuteTime": {
     "end_time": "2025-10-26T09:44:48.125197Z",
     "start_time": "2025-10-26T09:44:48.116412Z"
    }
   },
   "source": [
    "b, a = a, b\n",
    "print(a)\n",
    "print(b)"
   ],
   "outputs": [
    {
     "name": "stdout",
     "output_type": "stream",
     "text": [
      "2\n",
      "1\n"
     ]
    }
   ],
   "execution_count": 20
  },
  {
   "cell_type": "code",
   "id": "b1c7e798",
   "metadata": {
    "ExecuteTime": {
     "end_time": "2025-10-26T09:44:52.050411Z",
     "start_time": "2025-10-26T09:44:52.043668Z"
    }
   },
   "source": [
    "# Iterate over sequences of tuples or lists\n",
    "seq = [(1, 2, 3), (4, 5, 6), (7, 8, 9)]\n",
    "\n",
    "for a, b, c in seq:\n",
    "    print(f'a={a}, b={b}, c={c}')"
   ],
   "outputs": [
    {
     "name": "stdout",
     "output_type": "stream",
     "text": [
      "a=1, b=2, c=3\n",
      "a=4, b=5, c=6\n",
      "a=7, b=8, c=9\n"
     ]
    }
   ],
   "execution_count": 21
  },
  {
   "cell_type": "code",
   "id": "cc4f39a9",
   "metadata": {
    "ExecuteTime": {
     "end_time": "2025-10-26T09:44:54.469035Z",
     "start_time": "2025-10-26T09:44:54.461370Z"
    }
   },
   "source": [
    "# Ignore unwanted elements\n",
    "values = 1, 2, 3, 4, 5\n",
    "\n",
    "a, b, *rest = values\n",
    "\n",
    "print(a)\n",
    "print(b)\n",
    "print(rest)"
   ],
   "outputs": [
    {
     "name": "stdout",
     "output_type": "stream",
     "text": [
      "1\n",
      "2\n",
      "[3, 4, 5]\n"
     ]
    }
   ],
   "execution_count": 22
  },
  {
   "cell_type": "markdown",
   "id": "9b3233eb",
   "metadata": {},
   "source": [
    "### Tuple methods"
   ]
  },
  {
   "cell_type": "code",
   "id": "6ae1dcad",
   "metadata": {
    "ExecuteTime": {
     "end_time": "2025-10-26T09:45:19.465238Z",
     "start_time": "2025-10-26T09:45:19.457453Z"
    }
   },
   "source": [
    "# Count the number of occurrences of a value\n",
    "a = (1, 2, 2, 2, 3, 4, 2)\n",
    "a.count(2)"
   ],
   "outputs": [
    {
     "data": {
      "text/plain": [
       "4"
      ]
     },
     "execution_count": 23,
     "metadata": {},
     "output_type": "execute_result"
    }
   ],
   "execution_count": 23
  },
  {
   "cell_type": "markdown",
   "id": "3d1e2f43",
   "metadata": {},
   "source": [
    "## 2. List"
   ]
  },
  {
   "cell_type": "code",
   "id": "41517aca",
   "metadata": {
    "ExecuteTime": {
     "end_time": "2025-10-26T09:45:22.268582Z",
     "start_time": "2025-10-26T09:45:22.258024Z"
    }
   },
   "source": [
    "# Define a list using []\n",
    "a_list = [2, 3, 7, None]\n",
    "\n",
    "# Define a list using list()\n",
    "tup = (\"foo\", \"bar\", \"baz\")\n",
    "b_list = list(tup)\n",
    "\n",
    "b_list"
   ],
   "outputs": [
    {
     "data": {
      "text/plain": [
       "['foo', 'bar', 'baz']"
      ]
     },
     "execution_count": 24,
     "metadata": {},
     "output_type": "execute_result"
    }
   ],
   "execution_count": 24
  },
  {
   "cell_type": "code",
   "id": "b075d3b5",
   "metadata": {
    "ExecuteTime": {
     "end_time": "2025-10-26T09:45:29.294948Z",
     "start_time": "2025-10-26T09:45:29.285098Z"
    }
   },
   "source": [
    "gen = range(10)\n",
    "list(gen)"
   ],
   "outputs": [
    {
     "data": {
      "text/plain": [
       "[0, 1, 2, 3, 4, 5, 6, 7, 8, 9]"
      ]
     },
     "execution_count": 25,
     "metadata": {},
     "output_type": "execute_result"
    }
   ],
   "execution_count": 25
  },
  {
   "cell_type": "markdown",
   "id": "9d0825b9",
   "metadata": {},
   "source": [
    "### Adding or removing elements"
   ]
  },
  {
   "cell_type": "code",
   "id": "d9a02c60",
   "metadata": {
    "ExecuteTime": {
     "end_time": "2025-10-26T09:45:31.351079Z",
     "start_time": "2025-10-26T09:45:31.342172Z"
    }
   },
   "source": [
    "# Append an element to the end of a list\n",
    "b_list.append(\"dwarf\")\n",
    "b_list"
   ],
   "outputs": [
    {
     "data": {
      "text/plain": [
       "['foo', 'bar', 'baz', 'dwarf']"
      ]
     },
     "execution_count": 26,
     "metadata": {},
     "output_type": "execute_result"
    }
   ],
   "execution_count": 26
  },
  {
   "cell_type": "code",
   "id": "cff368e7",
   "metadata": {
    "ExecuteTime": {
     "end_time": "2025-10-26T09:45:33.510059Z",
     "start_time": "2025-10-26T09:45:33.499488Z"
    }
   },
   "source": [
    "# Insert an element at a specific location in the list\n",
    "b_list.insert(1, \"red\")\n",
    "b_list"
   ],
   "outputs": [
    {
     "data": {
      "text/plain": [
       "['foo', 'red', 'bar', 'baz', 'dwarf']"
      ]
     },
     "execution_count": 27,
     "metadata": {},
     "output_type": "execute_result"
    }
   ],
   "execution_count": 27
  },
  {
   "metadata": {},
   "cell_type": "markdown",
   "source": "* `.remove()` is slower than `.pop()` since it has to search for the element first.",
   "id": "a6a2bc6e7e7389ed"
  },
  {
   "metadata": {
    "ExecuteTime": {
     "end_time": "2025-10-26T09:45:42.061495Z",
     "start_time": "2025-10-26T09:45:42.050763Z"
    }
   },
   "cell_type": "code",
   "outputs": [
    {
     "data": {
      "text/plain": [
       "['foo', 'red', 'baz', 'dwarf']"
      ]
     },
     "execution_count": 28,
     "metadata": {},
     "output_type": "execute_result"
    }
   ],
   "execution_count": 28,
   "source": [
    "# Remove an element based on a particular index\n",
    "b_list.pop(2)\n",
    "b_list"
   ],
   "id": "ad5166efcf0a064e"
  },
  {
   "metadata": {
    "ExecuteTime": {
     "end_time": "2025-10-26T09:45:43.741286Z",
     "start_time": "2025-10-26T09:45:43.732972Z"
    }
   },
   "cell_type": "code",
   "outputs": [
    {
     "data": {
      "text/plain": [
       "['red', 'baz', 'dwarf']"
      ]
     },
     "execution_count": 29,
     "metadata": {},
     "output_type": "execute_result"
    }
   ],
   "execution_count": 29,
   "source": [
    "# Remove an element by value\n",
    "b_list.remove('foo')\n",
    "b_list"
   ],
   "id": "ce42478cd0ac8c8e"
  },
  {
   "cell_type": "code",
   "id": "1b2b11af",
   "metadata": {
    "ExecuteTime": {
     "end_time": "2025-10-26T09:45:45.429886Z",
     "start_time": "2025-10-26T09:45:45.421357Z"
    }
   },
   "source": [
    "# Check if a list containing a value\n",
    "'red' in b_list"
   ],
   "outputs": [
    {
     "data": {
      "text/plain": [
       "True"
      ]
     },
     "execution_count": 30,
     "metadata": {},
     "output_type": "execute_result"
    }
   ],
   "execution_count": 30
  },
  {
   "cell_type": "code",
   "id": "4a10b833",
   "metadata": {
    "ExecuteTime": {
     "end_time": "2025-10-26T09:45:48.493413Z",
     "start_time": "2025-10-26T09:45:48.484306Z"
    }
   },
   "source": [
    "'baz' not in b_list"
   ],
   "outputs": [
    {
     "data": {
      "text/plain": [
       "False"
      ]
     },
     "execution_count": 32,
     "metadata": {},
     "output_type": "execute_result"
    }
   ],
   "execution_count": 32
  },
  {
   "cell_type": "markdown",
   "id": "4155c2d5",
   "metadata": {},
   "source": [
    "### Concatenating and combining lists"
   ]
  },
  {
   "metadata": {
    "ExecuteTime": {
     "end_time": "2025-10-26T09:49:09.855129Z",
     "start_time": "2025-10-26T09:49:09.852418Z"
    }
   },
   "cell_type": "markdown",
   "source": [
    "There are 2 ways to add elements to a list:\n",
    "* `+` operator: cost operation performance because the computer has to create a new list (another object)\n",
    "* `.extend` : keep the original list, just add new elements at the end"
   ],
   "id": "4741e5c541bb5f88"
  },
  {
   "cell_type": "code",
   "id": "ee881e47",
   "metadata": {
    "ExecuteTime": {
     "end_time": "2025-10-26T09:45:50.956916Z",
     "start_time": "2025-10-26T09:45:50.947303Z"
    }
   },
   "source": [
    "# Add two lists together using the + operator\n",
    "[4, None, \"foo\"] + [7, 8, (2, 3)]"
   ],
   "outputs": [
    {
     "data": {
      "text/plain": [
       "[4, None, 'foo', 7, 8, (2, 3)]"
      ]
     },
     "execution_count": 33,
     "metadata": {},
     "output_type": "execute_result"
    }
   ],
   "execution_count": 33
  },
  {
   "cell_type": "code",
   "id": "a0ac9ea2",
   "metadata": {
    "ExecuteTime": {
     "end_time": "2025-10-26T09:45:52.497648Z",
     "start_time": "2025-10-26T09:45:52.488195Z"
    }
   },
   "source": [
    "# Append multiple elements using .extent()\n",
    "x = [4, None, \"foo\"]\n",
    "x.extend([7, 8, (2, 3)])\n",
    "x"
   ],
   "outputs": [
    {
     "data": {
      "text/plain": [
       "[4, None, 'foo', 7, 8, (2, 3)]"
      ]
     },
     "execution_count": 34,
     "metadata": {},
     "output_type": "execute_result"
    }
   ],
   "execution_count": 34
  },
  {
   "cell_type": "markdown",
   "id": "388a2ec1",
   "metadata": {},
   "source": [
    "### Sorting"
   ]
  },
  {
   "cell_type": "code",
   "id": "898854bb",
   "metadata": {
    "ExecuteTime": {
     "end_time": "2025-10-26T09:45:54.574581Z",
     "start_time": "2025-10-26T09:45:54.566066Z"
    }
   },
   "source": [
    "# Sort without creating a new object\n",
    "a = [7, 2, 5, 1, 3]\n",
    "a.sort()\n",
    "a"
   ],
   "outputs": [
    {
     "data": {
      "text/plain": [
       "[1, 2, 3, 5, 7]"
      ]
     },
     "execution_count": 35,
     "metadata": {},
     "output_type": "execute_result"
    }
   ],
   "execution_count": 35
  },
  {
   "cell_type": "code",
   "id": "2eedb4fd",
   "metadata": {
    "ExecuteTime": {
     "end_time": "2025-10-26T09:45:57.768056Z",
     "start_time": "2025-10-26T09:45:57.757822Z"
    }
   },
   "source": [
    "# key argument: function that produces a value to use to sort the objects\n",
    "b = [\"saw\", \"small\", \"He\", \"foxes\", \"six\"]\n",
    "b.sort(key=len)\n",
    "b"
   ],
   "outputs": [
    {
     "data": {
      "text/plain": [
       "['He', 'saw', 'six', 'small', 'foxes']"
      ]
     },
     "execution_count": 36,
     "metadata": {},
     "output_type": "execute_result"
    }
   ],
   "execution_count": 36
  },
  {
   "metadata": {
    "ExecuteTime": {
     "end_time": "2025-10-26T09:56:37.946592Z",
     "start_time": "2025-10-26T09:56:37.936101Z"
    }
   },
   "cell_type": "code",
   "source": [
    "# Copy to another list and then sort\n",
    "# Sorted is slower than .sort\n",
    "c = sorted(a)\n",
    "c"
   ],
   "id": "488d9ec964c243d4",
   "outputs": [
    {
     "data": {
      "text/plain": [
       "[1, 2, 3, 5, 7]"
      ]
     },
     "execution_count": 53,
     "metadata": {},
     "output_type": "execute_result"
    }
   ],
   "execution_count": 53
  },
  {
   "cell_type": "markdown",
   "id": "d51fd7bb",
   "metadata": {},
   "source": [
    "### Slicing"
   ]
  },
  {
   "cell_type": "code",
   "id": "c7ca302e",
   "metadata": {
    "ExecuteTime": {
     "end_time": "2025-10-26T09:46:00.113127Z",
     "start_time": "2025-10-26T09:46:00.103532Z"
    }
   },
   "source": [
    "# start:stop\n",
    "seq = [7, 2, 3, 7, 5, 6, 0, 1]\n",
    "seq[1:5]"
   ],
   "outputs": [
    {
     "data": {
      "text/plain": [
       "[2, 3, 7, 5]"
      ]
     },
     "execution_count": 37,
     "metadata": {},
     "output_type": "execute_result"
    }
   ],
   "execution_count": 37
  },
  {
   "cell_type": "code",
   "id": "5545e9d2",
   "metadata": {
    "ExecuteTime": {
     "end_time": "2025-10-26T09:46:02.387420Z",
     "start_time": "2025-10-26T09:46:02.377156Z"
    }
   },
   "source": [
    "seq[:5]"
   ],
   "outputs": [
    {
     "data": {
      "text/plain": [
       "[7, 2, 3, 7, 5]"
      ]
     },
     "execution_count": 38,
     "metadata": {},
     "output_type": "execute_result"
    }
   ],
   "execution_count": 38
  },
  {
   "cell_type": "code",
   "id": "34a744a3",
   "metadata": {
    "ExecuteTime": {
     "end_time": "2025-10-26T09:46:03.375150Z",
     "start_time": "2025-10-26T09:46:03.366715Z"
    }
   },
   "source": [
    "seq[-4:]"
   ],
   "outputs": [
    {
     "data": {
      "text/plain": [
       "[5, 6, 0, 1]"
      ]
     },
     "execution_count": 39,
     "metadata": {},
     "output_type": "execute_result"
    }
   ],
   "execution_count": 39
  },
  {
   "cell_type": "code",
   "id": "4fbc9d22",
   "metadata": {
    "ExecuteTime": {
     "end_time": "2025-10-26T09:46:05.327705Z",
     "start_time": "2025-10-26T09:46:05.316885Z"
    }
   },
   "source": [
    "seq[-6:-2]"
   ],
   "outputs": [
    {
     "data": {
      "text/plain": [
       "[3, 7, 5, 6]"
      ]
     },
     "execution_count": 40,
     "metadata": {},
     "output_type": "execute_result"
    }
   ],
   "execution_count": 40
  },
  {
   "cell_type": "code",
   "id": "91c3b399",
   "metadata": {
    "ExecuteTime": {
     "end_time": "2025-10-26T09:46:07.012512Z",
     "start_time": "2025-10-26T09:46:07.002865Z"
    }
   },
   "source": [
    "# step: take every 2nd element\n",
    "seq[::2]"
   ],
   "outputs": [
    {
     "data": {
      "text/plain": [
       "[7, 3, 5, 0]"
      ]
     },
     "execution_count": 41,
     "metadata": {},
     "output_type": "execute_result"
    }
   ],
   "execution_count": 41
  },
  {
   "cell_type": "code",
   "id": "afdda763",
   "metadata": {
    "ExecuteTime": {
     "end_time": "2025-10-26T09:46:08.689555Z",
     "start_time": "2025-10-26T09:46:08.678354Z"
    }
   },
   "source": [
    "# Reverse a list\n",
    "seq[::-1]"
   ],
   "outputs": [
    {
     "data": {
      "text/plain": [
       "[1, 0, 6, 5, 7, 3, 2, 7]"
      ]
     },
     "execution_count": 42,
     "metadata": {},
     "output_type": "execute_result"
    }
   ],
   "execution_count": 42
  },
  {
   "cell_type": "markdown",
   "id": "0b8c2a70",
   "metadata": {},
   "source": [
    "## 3. Dictionary"
   ]
  },
  {
   "cell_type": "code",
   "id": "47a03e87",
   "metadata": {
    "ExecuteTime": {
     "end_time": "2025-10-26T09:46:26.481617Z",
     "start_time": "2025-10-26T09:46:26.474079Z"
    }
   },
   "source": [
    "# Create a dictionary using {}\n",
    "d1 = {\"a\": \"some value\", \"b\": [1, 2, 3, 4]}\n",
    "d1"
   ],
   "outputs": [
    {
     "data": {
      "text/plain": [
       "{'a': 'some value', 'b': [1, 2, 3, 4]}"
      ]
     },
     "execution_count": 43,
     "metadata": {},
     "output_type": "execute_result"
    }
   ],
   "execution_count": 43
  },
  {
   "cell_type": "code",
   "id": "6d3bcbae",
   "metadata": {
    "ExecuteTime": {
     "end_time": "2025-10-26T09:46:30.515589Z",
     "start_time": "2025-10-26T09:46:30.505758Z"
    }
   },
   "source": [
    "# Access, insert or set elements\n",
    "d1[7] = \"an integer\"\n",
    "d1"
   ],
   "outputs": [
    {
     "data": {
      "text/plain": [
       "{'a': 'some value', 'b': [1, 2, 3, 4], 7: 'an integer'}"
      ]
     },
     "execution_count": 44,
     "metadata": {},
     "output_type": "execute_result"
    }
   ],
   "execution_count": 44
  },
  {
   "cell_type": "code",
   "id": "ea1fa352",
   "metadata": {
    "ExecuteTime": {
     "end_time": "2025-10-26T09:46:31.711414Z",
     "start_time": "2025-10-26T09:46:31.703852Z"
    }
   },
   "source": [
    "d1['b']"
   ],
   "outputs": [
    {
     "data": {
      "text/plain": [
       "[1, 2, 3, 4]"
      ]
     },
     "execution_count": 45,
     "metadata": {},
     "output_type": "execute_result"
    }
   ],
   "execution_count": 45
  },
  {
   "cell_type": "code",
   "id": "60ffdd1e",
   "metadata": {
    "ExecuteTime": {
     "end_time": "2025-10-26T09:46:32.632739Z",
     "start_time": "2025-10-26T09:46:32.624201Z"
    }
   },
   "source": [
    "# Check if a dictionary contains a key\n",
    "'b' in d1"
   ],
   "outputs": [
    {
     "data": {
      "text/plain": [
       "True"
      ]
     },
     "execution_count": 46,
     "metadata": {},
     "output_type": "execute_result"
    }
   ],
   "execution_count": 46
  },
  {
   "cell_type": "code",
   "id": "64b92686",
   "metadata": {
    "ExecuteTime": {
     "end_time": "2025-10-26T09:46:36.801744Z",
     "start_time": "2025-10-26T09:46:36.791468Z"
    }
   },
   "source": [
    "# Delete values using 'del' or '.pop'\n",
    "d1[5] = \"some value\"\n",
    "d1[\"dummy\"] = \"another value\"\n",
    "d1"
   ],
   "outputs": [
    {
     "data": {
      "text/plain": [
       "{'a': 'some value',\n",
       " 'b': [1, 2, 3, 4],\n",
       " 7: 'an integer',\n",
       " 5: 'some value',\n",
       " 'dummy': 'another value'}"
      ]
     },
     "execution_count": 47,
     "metadata": {},
     "output_type": "execute_result"
    }
   ],
   "execution_count": 47
  },
  {
   "cell_type": "code",
   "id": "3c323a39",
   "metadata": {
    "ExecuteTime": {
     "end_time": "2025-10-26T09:51:53.937119Z",
     "start_time": "2025-10-26T09:51:53.927582Z"
    }
   },
   "source": [
    "del d1[5]\n",
    "d1"
   ],
   "outputs": [
    {
     "data": {
      "text/plain": [
       "{'a': 'some value',\n",
       " 'b': [1, 2, 3, 4],\n",
       " 7: 'an integer',\n",
       " 'dummy': 'another value'}"
      ]
     },
     "execution_count": 50,
     "metadata": {},
     "output_type": "execute_result"
    }
   ],
   "execution_count": 50
  },
  {
   "cell_type": "code",
   "id": "8efa3401",
   "metadata": {
    "ExecuteTime": {
     "end_time": "2025-10-26T09:51:58.701267Z",
     "start_time": "2025-10-26T09:51:58.693473Z"
    }
   },
   "source": [
    "d1.pop(\"dummy\")\n",
    "d1"
   ],
   "outputs": [
    {
     "data": {
      "text/plain": [
       "{'a': 'some value', 'b': [1, 2, 3, 4], 7: 'an integer'}"
      ]
     },
     "execution_count": 51,
     "metadata": {},
     "output_type": "execute_result"
    }
   ],
   "execution_count": 51
  },
  {
   "cell_type": "code",
   "id": "569b4586",
   "metadata": {
    "ExecuteTime": {
     "end_time": "2025-10-26T09:52:01.635936Z",
     "start_time": "2025-10-26T09:52:01.627060Z"
    }
   },
   "source": [
    "# Access to keys of a dictionary\n",
    "list(d1.keys())"
   ],
   "outputs": [
    {
     "data": {
      "text/plain": [
       "['a', 'b', 7]"
      ]
     },
     "execution_count": 52,
     "metadata": {},
     "output_type": "execute_result"
    }
   ],
   "execution_count": 52
  },
  {
   "cell_type": "code",
   "id": "9e4c73dc",
   "metadata": {
    "ExecuteTime": {
     "end_time": "2025-10-26T09:56:48.344112Z",
     "start_time": "2025-10-26T09:56:48.334622Z"
    }
   },
   "source": [
    "# Access to values of a dictionary\n",
    "list(d1.values())"
   ],
   "outputs": [
    {
     "data": {
      "text/plain": [
       "['some value', [1, 2, 3, 4], 'an integer']"
      ]
     },
     "execution_count": 54,
     "metadata": {},
     "output_type": "execute_result"
    }
   ],
   "execution_count": 54
  },
  {
   "cell_type": "code",
   "id": "b782d725",
   "metadata": {
    "ExecuteTime": {
     "end_time": "2025-10-26T09:56:49.982600Z",
     "start_time": "2025-10-26T09:56:49.972140Z"
    }
   },
   "source": [
    "# Iterate over both keys and values\n",
    "list(d1.items())"
   ],
   "outputs": [
    {
     "data": {
      "text/plain": [
       "[('a', 'some value'), ('b', [1, 2, 3, 4]), (7, 'an integer')]"
      ]
     },
     "execution_count": 55,
     "metadata": {},
     "output_type": "execute_result"
    }
   ],
   "execution_count": 55
  },
  {
   "cell_type": "code",
   "id": "a7d40a77",
   "metadata": {
    "ExecuteTime": {
     "end_time": "2025-10-26T09:56:52.318181Z",
     "start_time": "2025-10-26T09:56:52.309303Z"
    }
   },
   "source": [
    "# Merge one dictionary into another\n",
    "d1.update({\"b\": \"foo\", \"c\": 12})\n",
    "d1"
   ],
   "outputs": [
    {
     "data": {
      "text/plain": [
       "{'a': 'some value', 'b': 'foo', 7: 'an integer', 'c': 12}"
      ]
     },
     "execution_count": 56,
     "metadata": {},
     "output_type": "execute_result"
    }
   ],
   "execution_count": 56
  },
  {
   "cell_type": "markdown",
   "id": "a0e6a408",
   "metadata": {},
   "source": [
    "### Creating dictionaries from sequences"
   ]
  },
  {
   "cell_type": "code",
   "id": "65d039cb",
   "metadata": {
    "ExecuteTime": {
     "end_time": "2025-10-26T09:56:55.162331Z",
     "start_time": "2025-10-26T09:56:55.149998Z"
    }
   },
   "source": [
    "key_list = ['a', 'b', 'c', 1]\n",
    "value_list= [123, 33, 'asdas', 22]\n",
    "mapping = {}\n",
    "\n",
    "for key, value in zip(key_list, value_list):\n",
    "    mapping[key] = value\n",
    "    \n",
    "mapping"
   ],
   "outputs": [
    {
     "data": {
      "text/plain": [
       "{'a': 123, 'b': 33, 'c': 'asdas', 1: 22}"
      ]
     },
     "execution_count": 57,
     "metadata": {},
     "output_type": "execute_result"
    }
   ],
   "execution_count": 57
  },
  {
   "metadata": {},
   "cell_type": "markdown",
   "source": "`zip` pairs up the elements of a number of lists, tupples or other sequences to create a list of tupples:",
   "id": "2487d407898bb1f"
  },
  {
   "metadata": {
    "ExecuteTime": {
     "end_time": "2025-10-26T09:56:58.028038Z",
     "start_time": "2025-10-26T09:56:58.016671Z"
    }
   },
   "cell_type": "code",
   "source": [
    "tupl = zip(key_list, value_list)\n",
    "mapp = dict(tupl)\n",
    "\n",
    "mapp"
   ],
   "id": "a2fa65d110071684",
   "outputs": [
    {
     "data": {
      "text/plain": [
       "{'a': 123, 'b': 33, 'c': 'asdas', 1: 22}"
      ]
     },
     "execution_count": 58,
     "metadata": {},
     "output_type": "execute_result"
    }
   ],
   "execution_count": 58
  },
  {
   "metadata": {
    "ExecuteTime": {
     "end_time": "2025-10-26T09:57:01.053716Z",
     "start_time": "2025-10-26T09:57:01.042692Z"
    }
   },
   "cell_type": "code",
   "source": [
    "tuples = zip(range(5), reversed(range(5)))\n",
    "mapping = dict(tuples)\n",
    "mapping"
   ],
   "id": "afbdc07ca9355373",
   "outputs": [
    {
     "data": {
      "text/plain": [
       "{0: 4, 1: 3, 2: 2, 3: 1, 4: 0}"
      ]
     },
     "execution_count": 59,
     "metadata": {},
     "output_type": "execute_result"
    }
   ],
   "execution_count": 59
  },
  {
   "metadata": {
    "ExecuteTime": {
     "end_time": "2025-10-26T10:55:45.258268Z",
     "start_time": "2025-10-26T10:55:45.249932Z"
    }
   },
   "cell_type": "code",
   "source": [
    "# Combine zip with enumerate\n",
    "seq1 = [\"foo\", \"bar\", \"baz\"]\n",
    "seq2 = [\"one\", \"two\", \"three\"]\n",
    "\n",
    "# enumerate can take any sequence\n",
    "for index, (a,b) in enumerate(zip(seq1, seq2)):\n",
    "    print(f'{index}: {a}, {b}')"
   ],
   "id": "bdf25847b5453718",
   "outputs": [
    {
     "name": "stdout",
     "output_type": "stream",
     "text": [
      "0: foo, one\n",
      "1: bar, two\n",
      "2: baz, three\n"
     ]
    }
   ],
   "execution_count": 78
  },
  {
   "cell_type": "markdown",
   "id": "34d010f4",
   "metadata": {},
   "source": [
    "### Default values"
   ]
  },
  {
   "metadata": {},
   "cell_type": "markdown",
   "source": [
    "`.setdefault(key, default)` method is used to ensure that a key exists in a dictionary.\n",
    "* If the key has already been in the dictionary, return the existing value without changing anything\n",
    "* If the key is not in the dictionary, add a `(key, default)` pair to the list\n",
    "\n",
    "`.setdefault` will help you access to the `value` of each pair. Then use `.append`, we can add value(s) to the `default` value."
   ],
   "id": "52edac9b87a8a5e2"
  },
  {
   "cell_type": "code",
   "id": "3424d2ac",
   "metadata": {
    "ExecuteTime": {
     "end_time": "2025-10-26T10:04:09.872032Z",
     "start_time": "2025-10-26T10:04:09.860922Z"
    }
   },
   "source": [
    "words = [\"apple\", \"bat\", \"bar\", \"atom\", \"book\"]\n",
    "by_letter = {}\n",
    "\n",
    "# Use .setdefault() to generate a list of words having the same first letter\n",
    "for word in words:\n",
    "    letter = word[0]\n",
    "    by_letter.setdefault(letter, []).append(word)\n",
    "    \n",
    "by_letter"
   ],
   "outputs": [
    {
     "data": {
      "text/plain": [
       "{'a': ['apple', 'atom'], 'b': ['bat', 'bar', 'book']}"
      ]
     },
     "execution_count": 60,
     "metadata": {},
     "output_type": "execute_result"
    }
   ],
   "execution_count": 60
  },
  {
   "metadata": {},
   "cell_type": "markdown",
   "source": "Using `defaultdict`, it will by default set a dictionary in which the **value** of each key-value pair is a **list**.\n",
   "id": "9ab2081e1a192bc8"
  },
  {
   "cell_type": "code",
   "id": "2f20383e",
   "metadata": {
    "ExecuteTime": {
     "end_time": "2025-10-26T10:05:06.550929Z",
     "start_time": "2025-10-26T10:05:06.539888Z"
    }
   },
   "source": [
    "# Generate the default value for each slot in the dictionary\n",
    "from collections import defaultdict\n",
    "\n",
    "by_letter = defaultdict(list)\n",
    "by_letter"
   ],
   "outputs": [
    {
     "data": {
      "text/plain": [
       "defaultdict(list, {})"
      ]
     },
     "execution_count": 62,
     "metadata": {},
     "output_type": "execute_result"
    }
   ],
   "execution_count": 62
  },
  {
   "metadata": {},
   "cell_type": "code",
   "outputs": [],
   "execution_count": null,
   "source": [
    "for word in words:\n",
    "    by_letter[word[0]].append(word)\n",
    "\n",
    "by_letter"
   ],
   "id": "17b12c54396ff8d4"
  },
  {
   "metadata": {},
   "cell_type": "markdown",
   "source": [
    "`dict.get(key, default)`\n",
    "\n",
    "The `.get()` method is used to ***safely*** retrieve the value of a key from a dictionary with the option to provide a default value if the key doesn't exist.\n",
    "\n",
    "* `key`: the key you want to look up.\n",
    "* `default`: (optional) value to return if the key is not found. If omitted, returns `None`.\n",
    "\n",
    "`.get()` will retrieve value safely, while `.setdefault()` will retrieve or set default value.\n"
   ],
   "id": "fddf1d607e04bb22"
  },
  {
   "metadata": {
    "ExecuteTime": {
     "end_time": "2025-10-26T10:11:48.315111Z",
     "start_time": "2025-10-26T10:11:48.304743Z"
    }
   },
   "cell_type": "code",
   "source": [
    "def histogram(s):\n",
    "    d = dict()\n",
    "    for c in s:\n",
    "        if c in d:\n",
    "            d[c] = d[c] + 1\n",
    "        else:\n",
    "            d[c] = 1\n",
    "    return d\n",
    "\n",
    "histogram('aasfweffss')"
   ],
   "id": "df747450dfb219d2",
   "outputs": [
    {
     "data": {
      "text/plain": [
       "{'a': 2, 's': 3, 'f': 3, 'w': 1, 'e': 1}"
      ]
     },
     "execution_count": 63,
     "metadata": {},
     "output_type": "execute_result"
    }
   ],
   "execution_count": 63
  },
  {
   "metadata": {
    "ExecuteTime": {
     "end_time": "2025-10-26T10:04:12.462649Z",
     "start_time": "2025-10-26T10:04:12.451595Z"
    }
   },
   "cell_type": "code",
   "outputs": [
    {
     "data": {
      "text/plain": [
       "{'a': 2, 's': 3, 'f': 3, 'w': 1, 'e': 1}"
      ]
     },
     "execution_count": 61,
     "metadata": {},
     "output_type": "execute_result"
    }
   ],
   "execution_count": 61,
   "source": [
    "# Use .get to map the frequency to each letter in a word\n",
    "def histogram(s):\n",
    "    d = dict()\n",
    "    for c in s:\n",
    "        d[c] = 1 + d.get(c, 0) # d.get(c,0) retrieves value of each key, if it's not available, return 0\n",
    "    return d\n",
    "\n",
    "histogram('aasfweffss')"
   ],
   "id": "a7da6aa2aa6bdf84"
  },
  {
   "cell_type": "markdown",
   "id": "e272ebda",
   "metadata": {},
   "source": [
    "## 4. Set"
   ]
  },
  {
   "cell_type": "code",
   "id": "99f7c533",
   "metadata": {
    "ExecuteTime": {
     "end_time": "2025-10-26T10:42:02.086962Z",
     "start_time": "2025-10-26T10:42:02.076032Z"
    }
   },
   "source": [
    "# Set is an unordered collection of unique elements\n",
    "set([2, 2, 2, 1, 3, 3])"
   ],
   "outputs": [
    {
     "data": {
      "text/plain": [
       "{1, 2, 3}"
      ]
     },
     "execution_count": 64,
     "metadata": {},
     "output_type": "execute_result"
    }
   ],
   "execution_count": 64
  },
  {
   "cell_type": "code",
   "id": "cb34866b",
   "metadata": {
    "ExecuteTime": {
     "end_time": "2025-10-26T10:42:06.572660Z",
     "start_time": "2025-10-26T10:42:06.564875Z"
    }
   },
   "source": [
    "{2, 2, 2, 1, 3, 3}"
   ],
   "outputs": [
    {
     "data": {
      "text/plain": [
       "{1, 2, 3}"
      ]
     },
     "execution_count": 65,
     "metadata": {},
     "output_type": "execute_result"
    }
   ],
   "execution_count": 65
  },
  {
   "metadata": {},
   "cell_type": "markdown",
   "source": [
    "`set` supports mathematical set operations like union, intersection, difference, and\n",
    "symmetric difference."
   ],
   "id": "40e616bca176c38e"
  },
  {
   "cell_type": "code",
   "id": "bd5c2e6d",
   "metadata": {
    "ExecuteTime": {
     "end_time": "2025-10-26T10:42:17.761577Z",
     "start_time": "2025-10-26T10:42:17.755073Z"
    }
   },
   "source": [
    "a = {1, 2, 3, 4, 5}\n",
    "b = {3, 4, 5, 6, 7, 8}"
   ],
   "outputs": [],
   "execution_count": 66
  },
  {
   "cell_type": "code",
   "id": "f407e3cf",
   "metadata": {
    "ExecuteTime": {
     "end_time": "2025-10-26T10:42:21.850955Z",
     "start_time": "2025-10-26T10:42:21.843571Z"
    }
   },
   "source": [
    "# Union of two sets\n",
    "a.union(b)"
   ],
   "outputs": [
    {
     "data": {
      "text/plain": [
       "{1, 2, 3, 4, 5, 6, 7, 8}"
      ]
     },
     "execution_count": 67,
     "metadata": {},
     "output_type": "execute_result"
    }
   ],
   "execution_count": 67
  },
  {
   "cell_type": "code",
   "id": "0c324fad",
   "metadata": {
    "ExecuteTime": {
     "end_time": "2025-10-26T10:42:25.553031Z",
     "start_time": "2025-10-26T10:42:25.544665Z"
    }
   },
   "source": [
    "a | b"
   ],
   "outputs": [
    {
     "data": {
      "text/plain": [
       "{1, 2, 3, 4, 5, 6, 7, 8}"
      ]
     },
     "execution_count": 68,
     "metadata": {},
     "output_type": "execute_result"
    }
   ],
   "execution_count": 68
  },
  {
   "cell_type": "code",
   "id": "751e57ae",
   "metadata": {
    "ExecuteTime": {
     "end_time": "2025-10-26T10:42:29.593634Z",
     "start_time": "2025-10-26T10:42:29.586035Z"
    }
   },
   "source": [
    "# Intersection between two sets\n",
    "a.intersection(b)"
   ],
   "outputs": [
    {
     "data": {
      "text/plain": [
       "{3, 4, 5}"
      ]
     },
     "execution_count": 69,
     "metadata": {},
     "output_type": "execute_result"
    }
   ],
   "execution_count": 69
  },
  {
   "cell_type": "code",
   "id": "ae456879",
   "metadata": {
    "ExecuteTime": {
     "end_time": "2025-10-26T10:42:34.000923Z",
     "start_time": "2025-10-26T10:42:33.992487Z"
    }
   },
   "source": [
    "a & b"
   ],
   "outputs": [
    {
     "data": {
      "text/plain": [
       "{3, 4, 5}"
      ]
     },
     "execution_count": 70,
     "metadata": {},
     "output_type": "execute_result"
    }
   ],
   "execution_count": 70
  },
  {
   "cell_type": "code",
   "id": "ea536fe5",
   "metadata": {
    "ExecuteTime": {
     "end_time": "2025-10-26T10:42:59.111290Z",
     "start_time": "2025-10-26T10:42:59.104080Z"
    }
   },
   "source": [
    "c = a.copy()\n",
    "c"
   ],
   "outputs": [
    {
     "data": {
      "text/plain": [
       "{1, 2, 3, 4, 5}"
      ]
     },
     "execution_count": 71,
     "metadata": {},
     "output_type": "execute_result"
    }
   ],
   "execution_count": 71
  },
  {
   "cell_type": "code",
   "id": "5b2a65db",
   "metadata": {
    "ExecuteTime": {
     "end_time": "2025-10-26T10:43:01.295702Z",
     "start_time": "2025-10-26T10:43:01.287211Z"
    }
   },
   "source": [
    "# Set the contents of c to be the union of the elements in c and b\n",
    "c |= b\n",
    "c"
   ],
   "outputs": [
    {
     "data": {
      "text/plain": [
       "{1, 2, 3, 4, 5, 6, 7, 8}"
      ]
     },
     "execution_count": 72,
     "metadata": {},
     "output_type": "execute_result"
    }
   ],
   "execution_count": 72
  },
  {
   "cell_type": "code",
   "id": "823b1f86",
   "metadata": {
    "ExecuteTime": {
     "end_time": "2025-10-26T10:43:41.143682Z",
     "start_time": "2025-10-26T10:43:41.136025Z"
    }
   },
   "source": [
    "d = a.copy()\n",
    "d"
   ],
   "outputs": [
    {
     "data": {
      "text/plain": [
       "{1, 2, 3, 4, 5}"
      ]
     },
     "execution_count": 73,
     "metadata": {},
     "output_type": "execute_result"
    }
   ],
   "execution_count": 73
  },
  {
   "cell_type": "code",
   "id": "6dc5a940",
   "metadata": {
    "ExecuteTime": {
     "end_time": "2025-10-26T10:43:46.597325Z",
     "start_time": "2025-10-26T10:43:46.588830Z"
    }
   },
   "source": [
    "# Set the contents of d to be the intersection of the elements in d and b\n",
    "d &= b\n",
    "d"
   ],
   "outputs": [
    {
     "data": {
      "text/plain": [
       "{3, 4, 5}"
      ]
     },
     "execution_count": 74,
     "metadata": {},
     "output_type": "execute_result"
    }
   ],
   "execution_count": 74
  },
  {
   "cell_type": "code",
   "id": "edb77382",
   "metadata": {
    "ExecuteTime": {
     "end_time": "2025-10-26T10:43:53.585084Z",
     "start_time": "2025-10-26T10:43:53.576328Z"
    }
   },
   "source": [
    "# Check if a set is a subset of another set\n",
    "a_set = {1, 2, 3, 4, 5}\n",
    "\n",
    "{1, 2, 3}.issubset(a_set)"
   ],
   "outputs": [
    {
     "data": {
      "text/plain": [
       "True"
      ]
     },
     "execution_count": 75,
     "metadata": {},
     "output_type": "execute_result"
    }
   ],
   "execution_count": 75
  },
  {
   "cell_type": "code",
   "id": "222d4b7e",
   "metadata": {
    "ExecuteTime": {
     "end_time": "2025-10-26T10:44:06.184109Z",
     "start_time": "2025-10-26T10:44:06.176100Z"
    }
   },
   "source": [
    "# Sets are equal if their contents are equal\n",
    "{1, 2, 3} == {3, 2, 1}"
   ],
   "outputs": [
    {
     "data": {
      "text/plain": [
       "True"
      ]
     },
     "execution_count": 76,
     "metadata": {},
     "output_type": "execute_result"
    }
   ],
   "execution_count": 76
  },
  {
   "cell_type": "markdown",
   "id": "27174067",
   "metadata": {},
   "source": [
    "## 5. List, Set & Dictionary comprehensions"
   ]
  },
  {
   "cell_type": "markdown",
   "id": "e1521f08",
   "metadata": {},
   "source": [
    "**[expr for value in collection if condition]**"
   ]
  },
  {
   "cell_type": "code",
   "id": "b552d2d9",
   "metadata": {
    "ExecuteTime": {
     "end_time": "2025-10-26T10:57:42.392557Z",
     "start_time": "2025-10-26T10:57:42.382432Z"
    }
   },
   "source": [
    "strings = [\"a\", \"as\", \"bat\", \"car\", \"dove\", \"python\"]\n",
    "\n",
    "upper = [x.upper() for x in strings if len(x) > 2]\n",
    "upper"
   ],
   "outputs": [
    {
     "data": {
      "text/plain": [
       "['BAT', 'CAR', 'DOVE', 'PYTHON']"
      ]
     },
     "execution_count": 79,
     "metadata": {},
     "output_type": "execute_result"
    }
   ],
   "execution_count": 79
  },
  {
   "cell_type": "markdown",
   "id": "2764d9dd",
   "metadata": {},
   "source": [
    "**dict_comp = {key-expr: value-expr for value in collection if condition}**"
   ]
  },
  {
   "cell_type": "code",
   "id": "1eaa6cdf",
   "metadata": {
    "ExecuteTime": {
     "end_time": "2025-10-26T10:58:02.869537Z",
     "start_time": "2025-10-26T10:58:02.861690Z"
    }
   },
   "source": [
    "loc_mapping = {value: index for index, value in enumerate(strings)}\n",
    "loc_mapping"
   ],
   "outputs": [
    {
     "data": {
      "text/plain": [
       "{'a': 0, 'as': 1, 'bat': 2, 'car': 3, 'dove': 4, 'python': 5}"
      ]
     },
     "execution_count": 80,
     "metadata": {},
     "output_type": "execute_result"
    }
   ],
   "execution_count": 80
  },
  {
   "cell_type": "markdown",
   "id": "bbbdd43a",
   "metadata": {},
   "source": [
    "**set_comp = {expr for value in collection if condition}**"
   ]
  },
  {
   "cell_type": "code",
   "id": "29795fab",
   "metadata": {
    "scrolled": true,
    "ExecuteTime": {
     "end_time": "2025-10-26T11:44:57.450725Z",
     "start_time": "2025-10-26T11:44:57.443044Z"
    }
   },
   "source": [
    "unique_lengths = {len(x) for x in strings}\n",
    "unique_lengths"
   ],
   "outputs": [
    {
     "data": {
      "text/plain": [
       "{1, 2, 3, 4, 6}"
      ]
     },
     "execution_count": 81,
     "metadata": {},
     "output_type": "execute_result"
    }
   ],
   "execution_count": 81
  },
  {
   "cell_type": "code",
   "id": "aa23aaeb",
   "metadata": {
    "ExecuteTime": {
     "end_time": "2025-10-26T11:44:59.739924Z",
     "start_time": "2025-10-26T11:44:59.730186Z"
    }
   },
   "source": [
    "set(map(len, strings))"
   ],
   "outputs": [
    {
     "data": {
      "text/plain": [
       "{1, 2, 3, 4, 6}"
      ]
     },
     "execution_count": 82,
     "metadata": {},
     "output_type": "execute_result"
    }
   ],
   "execution_count": 82
  },
  {
   "cell_type": "markdown",
   "id": "9a794ea0",
   "metadata": {},
   "source": [
    "**Nested list comprehensions**"
   ]
  },
  {
   "cell_type": "code",
   "id": "daf90f65",
   "metadata": {
    "ExecuteTime": {
     "end_time": "2025-10-26T11:45:02.162603Z",
     "start_time": "2025-10-26T11:45:02.157171Z"
    }
   },
   "source": [
    "all_data = [[\"John\", \"Emily\", \"Michael\", \"Mary\", \"Steven\"],\n",
    "            [\"Maria\", \"Juan\", \"Javier\", \"Natalia\", \"Pilar\"]]"
   ],
   "outputs": [],
   "execution_count": 83
  },
  {
   "cell_type": "code",
   "id": "4b59acd6",
   "metadata": {
    "ExecuteTime": {
     "end_time": "2025-10-26T11:45:04.605866Z",
     "start_time": "2025-10-26T11:45:04.596140Z"
    }
   },
   "source": [
    "names_of_interest = []\n",
    "\n",
    "for names in all_data:\n",
    "    enough_as = [name for name in names if name.count('a') >= 2]\n",
    "    names_of_interest.extend(enough_as)\n",
    "\n",
    "names_of_interest"
   ],
   "outputs": [
    {
     "data": {
      "text/plain": [
       "['Maria', 'Natalia']"
      ]
     },
     "execution_count": 84,
     "metadata": {},
     "output_type": "execute_result"
    }
   ],
   "execution_count": 84
  },
  {
   "cell_type": "code",
   "id": "38e892ab",
   "metadata": {
    "ExecuteTime": {
     "end_time": "2025-10-26T11:45:07.126097Z",
     "start_time": "2025-10-26T11:45:07.120192Z"
    }
   },
   "source": [
    "some_tuples = [(1, 2, 3), (4, 5, 6), (7, 8, 9)]"
   ],
   "outputs": [],
   "execution_count": 85
  },
  {
   "cell_type": "code",
   "id": "7f8898f6",
   "metadata": {
    "ExecuteTime": {
     "end_time": "2025-10-26T11:45:08.366664Z",
     "start_time": "2025-10-26T11:45:08.358479Z"
    }
   },
   "source": [
    "flattened = [x for tup in some_tuples for x in tup]\n",
    "flattened"
   ],
   "outputs": [
    {
     "data": {
      "text/plain": [
       "[1, 2, 3, 4, 5, 6, 7, 8, 9]"
      ]
     },
     "execution_count": 86,
     "metadata": {},
     "output_type": "execute_result"
    }
   ],
   "execution_count": 86
  },
  {
   "cell_type": "code",
   "id": "192f315b",
   "metadata": {
    "ExecuteTime": {
     "end_time": "2025-10-26T11:45:10.116377Z",
     "start_time": "2025-10-26T11:45:10.108023Z"
    }
   },
   "source": [
    "[[x for x in tup] for tup in some_tuples]"
   ],
   "outputs": [
    {
     "data": {
      "text/plain": [
       "[[1, 2, 3], [4, 5, 6], [7, 8, 9]]"
      ]
     },
     "execution_count": 87,
     "metadata": {},
     "output_type": "execute_result"
    }
   ],
   "execution_count": 87
  },
  {
   "cell_type": "code",
   "id": "5d559db7",
   "metadata": {
    "ExecuteTime": {
     "end_time": "2025-10-26T11:45:11.997557Z",
     "start_time": "2025-10-26T11:45:11.988910Z"
    }
   },
   "source": [
    "[list(tup) for tup in some_tuples]"
   ],
   "outputs": [
    {
     "data": {
      "text/plain": [
       "[[1, 2, 3], [4, 5, 6], [7, 8, 9]]"
      ]
     },
     "execution_count": 88,
     "metadata": {},
     "output_type": "execute_result"
    }
   ],
   "execution_count": 88
  },
  {
   "cell_type": "markdown",
   "id": "8f75b1c6",
   "metadata": {},
   "source": "# Functions"
  },
  {
   "cell_type": "code",
   "id": "8a648f7e",
   "metadata": {
    "ExecuteTime": {
     "end_time": "2025-10-26T11:47:47.313435Z",
     "start_time": "2025-10-26T11:47:47.305028Z"
    }
   },
   "source": [
    "# Function starts with the 'def' keyword\n",
    "def my_function(x, y):\n",
    "    return x + y\n",
    "\n",
    "my_function(1, 2)"
   ],
   "outputs": [
    {
     "data": {
      "text/plain": [
       "3"
      ]
     },
     "execution_count": 89,
     "metadata": {},
     "output_type": "execute_result"
    }
   ],
   "execution_count": 89
  },
  {
   "cell_type": "code",
   "id": "dd07d0c7",
   "metadata": {
    "ExecuteTime": {
     "end_time": "2025-10-26T11:49:31.250452Z",
     "start_time": "2025-10-26T11:49:31.242026Z"
    }
   },
   "source": [
    "# Call the \"fruitfull\" function\n",
    "# fruitfull function (perform action and return the result)\n",
    "# void function (performs an action but doesn't return anything, like print)\n",
    "result = my_function (1, 2)\n",
    "result"
   ],
   "outputs": [
    {
     "data": {
      "text/plain": [
       "3"
      ]
     },
     "execution_count": 91,
     "metadata": {},
     "output_type": "execute_result"
    }
   ],
   "execution_count": 91
  },
  {
   "cell_type": "code",
   "id": "166683ea",
   "metadata": {
    "ExecuteTime": {
     "end_time": "2025-10-26T12:00:38.320922Z",
     "start_time": "2025-10-26T12:00:38.313926Z"
    }
   },
   "source": [
    "# Create a void function\n",
    "def function_without_return(x):\n",
    "    print(x)\n",
    "    \n",
    "result = function_without_return(\"hello!\")\n",
    "result"
   ],
   "outputs": [
    {
     "name": "stdout",
     "output_type": "stream",
     "text": [
      "hello!\n"
     ]
    }
   ],
   "execution_count": 92
  },
  {
   "cell_type": "code",
   "id": "0f67ce89",
   "metadata": {
    "ExecuteTime": {
     "end_time": "2025-10-26T12:00:55.362373Z",
     "start_time": "2025-10-26T12:00:55.355222Z"
    }
   },
   "source": [
    "print(result)"
   ],
   "outputs": [
    {
     "name": "stdout",
     "output_type": "stream",
     "text": [
      "None\n"
     ]
    }
   ],
   "execution_count": 93
  },
  {
   "cell_type": "code",
   "id": "b40ef822",
   "metadata": {
    "ExecuteTime": {
     "end_time": "2025-10-26T12:00:59.705138Z",
     "start_time": "2025-10-26T12:00:59.698945Z"
    }
   },
   "source": [
    "# Each function can have positional (default) & keyword arguments (optional)\n",
    "def my_function2(x, y, z=1.5):\n",
    "    if z > 1:\n",
    "        return z * (x + y)\n",
    "    else:\n",
    "        return z / (x + y)"
   ],
   "outputs": [],
   "execution_count": 94
  },
  {
   "cell_type": "code",
   "id": "1e1f8755",
   "metadata": {
    "ExecuteTime": {
     "end_time": "2025-10-26T12:01:08.277397Z",
     "start_time": "2025-10-26T12:01:08.269501Z"
    }
   },
   "source": [
    "my_function2(5, 6, z=0.7)"
   ],
   "outputs": [
    {
     "data": {
      "text/plain": [
       "0.06363636363636363"
      ]
     },
     "execution_count": 95,
     "metadata": {},
     "output_type": "execute_result"
    }
   ],
   "execution_count": 95
  },
  {
   "cell_type": "code",
   "id": "a0fb28e6",
   "metadata": {
    "ExecuteTime": {
     "end_time": "2025-10-26T12:01:10.250085Z",
     "start_time": "2025-10-26T12:01:10.240402Z"
    }
   },
   "source": [
    "my_function2(3.14, 7, 3.5)"
   ],
   "outputs": [
    {
     "data": {
      "text/plain": [
       "35.49"
      ]
     },
     "execution_count": 96,
     "metadata": {},
     "output_type": "execute_result"
    }
   ],
   "execution_count": 96
  },
  {
   "cell_type": "code",
   "id": "d4cb4934",
   "metadata": {
    "ExecuteTime": {
     "end_time": "2025-10-26T12:01:12.042290Z",
     "start_time": "2025-10-26T12:01:12.032995Z"
    }
   },
   "source": [
    "my_function2(10, 20)"
   ],
   "outputs": [
    {
     "data": {
      "text/plain": [
       "45.0"
      ]
     },
     "execution_count": 97,
     "metadata": {},
     "output_type": "execute_result"
    }
   ],
   "execution_count": 97
  },
  {
   "cell_type": "markdown",
   "id": "dc85d2fa",
   "metadata": {},
   "source": "## Returning multiple values"
  },
  {
   "cell_type": "code",
   "id": "84a9f44d",
   "metadata": {
    "ExecuteTime": {
     "end_time": "2025-10-26T12:05:53.326239Z",
     "start_time": "2025-10-26T12:05:53.321459Z"
    }
   },
   "source": [
    "# Return multiple values\n",
    "\n",
    "def f():\n",
    "    a = 5\n",
    "    b = 6\n",
    "    c = 7\n",
    "    return a, b, c # return a tuple (1 object)\n",
    "\n",
    "# unpack tuple\n",
    "a,b,c = f()"
   ],
   "outputs": [
    {
     "data": {
      "text/plain": [
       "5"
      ]
     },
     "execution_count": 108,
     "metadata": {},
     "output_type": "execute_result"
    }
   ],
   "execution_count": 108
  },
  {
   "metadata": {
    "ExecuteTime": {
     "end_time": "2025-10-26T12:06:08.317596Z",
     "start_time": "2025-10-26T12:06:08.310440Z"
    }
   },
   "cell_type": "code",
   "source": "a",
   "id": "faa6264348855c17",
   "outputs": [
    {
     "data": {
      "text/plain": [
       "5"
      ]
     },
     "execution_count": 109,
     "metadata": {},
     "output_type": "execute_result"
    }
   ],
   "execution_count": 109
  },
  {
   "metadata": {
    "ExecuteTime": {
     "end_time": "2025-10-26T12:06:21.953855Z",
     "start_time": "2025-10-26T12:06:21.945214Z"
    }
   },
   "cell_type": "code",
   "source": "b",
   "id": "409fb29f1393ed1e",
   "outputs": [
    {
     "data": {
      "text/plain": [
       "6"
      ]
     },
     "execution_count": 110,
     "metadata": {},
     "output_type": "execute_result"
    }
   ],
   "execution_count": 110
  },
  {
   "metadata": {
    "ExecuteTime": {
     "end_time": "2025-10-26T12:06:23.258472Z",
     "start_time": "2025-10-26T12:06:23.251105Z"
    }
   },
   "cell_type": "code",
   "source": "c",
   "id": "2cff8b86ad5518ff",
   "outputs": [
    {
     "data": {
      "text/plain": [
       "7"
      ]
     },
     "execution_count": 111,
     "metadata": {},
     "output_type": "execute_result"
    }
   ],
   "execution_count": 111
  },
  {
   "metadata": {
    "ExecuteTime": {
     "end_time": "2025-10-26T12:05:30.780401Z",
     "start_time": "2025-10-26T12:05:30.773471Z"
    }
   },
   "cell_type": "code",
   "source": [
    "return_value = f()\n",
    "return_value"
   ],
   "id": "490ec648667025d7",
   "outputs": [
    {
     "data": {
      "text/plain": [
       "(5, 6, 7)"
      ]
     },
     "execution_count": 106,
     "metadata": {},
     "output_type": "execute_result"
    }
   ],
   "execution_count": 106
  },
  {
   "cell_type": "code",
   "id": "0cb39137",
   "metadata": {
    "ExecuteTime": {
     "end_time": "2025-10-26T12:02:18.571632Z",
     "start_time": "2025-10-26T12:02:18.562916Z"
    }
   },
   "source": [
    "def f():\n",
    "    a = 5\n",
    "    b = 6\n",
    "    c = 7\n",
    "    return {\"a\": a, \"b\": b, \"c\": c}\n",
    "\n",
    "return_value = f()\n",
    "return_value"
   ],
   "outputs": [
    {
     "data": {
      "text/plain": [
       "{'a': 5, 'b': 6, 'c': 7}"
      ]
     },
     "execution_count": 99,
     "metadata": {},
     "output_type": "execute_result"
    }
   ],
   "execution_count": 99
  },
  {
   "cell_type": "markdown",
   "id": "69c339aa",
   "metadata": {},
   "source": "## Functions are objects"
  },
  {
   "cell_type": "code",
   "id": "479581af",
   "metadata": {
    "ExecuteTime": {
     "end_time": "2025-10-26T12:08:20.251498Z",
     "start_time": "2025-10-26T12:08:20.245411Z"
    }
   },
   "source": [
    "states = [\" Alabama \", \"Georgia!\", \"Georgia\", \"georgia\", \"FlOrIda\",\n",
    "          \"south carolina##\", \"West virginia?\"]"
   ],
   "outputs": [],
   "execution_count": 112
  },
  {
   "cell_type": "code",
   "id": "1c5fde99",
   "metadata": {
    "ExecuteTime": {
     "end_time": "2025-10-26T12:09:58.701061Z",
     "start_time": "2025-10-26T12:09:58.690101Z"
    }
   },
   "source": [
    "import re\n",
    "\n",
    "# Approach 1: Put all buit-in methods in the function\n",
    "def clean_strings(strings):\n",
    "    result = []\n",
    "    for value in strings:\n",
    "        # split each word to a row\n",
    "        value = value.strip()\n",
    "        # remove special characters\n",
    "        value = re.sub(\"[!#?]\", \"\", value)\n",
    "        # capitalize the first letter of each word\n",
    "        value = value.title()\n",
    "        \n",
    "        result.append(value)\n",
    "    return result\n",
    "\n",
    "clean_strings(states)       "
   ],
   "outputs": [
    {
     "data": {
      "text/plain": [
       "['Alabama',\n",
       " 'Georgia',\n",
       " 'Georgia',\n",
       " 'Georgia',\n",
       " 'Florida',\n",
       " 'South Carolina',\n",
       " 'West Virginia']"
      ]
     },
     "execution_count": 113,
     "metadata": {},
     "output_type": "execute_result"
    }
   ],
   "execution_count": 113
  },
  {
   "cell_type": "code",
   "id": "4fed267e",
   "metadata": {
    "ExecuteTime": {
     "end_time": "2025-10-26T12:10:26.091571Z",
     "start_time": "2025-10-26T12:10:26.080939Z"
    }
   },
   "source": [
    "def remove_punctuation(value):\n",
    "    return re.sub(\"[!#?]\", \"\", value)\n",
    "\n",
    "# Approach 2: Make a list of the operations you want to apply\n",
    "clean_ops = [str.strip, remove_punctuation, str.title]\n",
    "\n",
    "def clean_strings(strings, ops):\n",
    "    result = []\n",
    "    for value in strings:\n",
    "        for func in ops:\n",
    "            value = func(value)\n",
    "        result.append(value)\n",
    "    return result\n",
    "\n",
    "clean_strings(states, clean_ops)  "
   ],
   "outputs": [
    {
     "data": {
      "text/plain": [
       "['Alabama',\n",
       " 'Georgia',\n",
       " 'Georgia',\n",
       " 'Georgia',\n",
       " 'Florida',\n",
       " 'South Carolina',\n",
       " 'West Virginia']"
      ]
     },
     "execution_count": 114,
     "metadata": {},
     "output_type": "execute_result"
    }
   ],
   "execution_count": 114
  },
  {
   "cell_type": "code",
   "id": "9351c710",
   "metadata": {
    "ExecuteTime": {
     "end_time": "2025-10-26T12:12:02.957872Z",
     "start_time": "2025-10-26T12:12:02.951047Z"
    }
   },
   "source": [
    "# Use the 'map' built-in function\n",
    "for x in map(remove_punctuation, states):\n",
    "    print(x)"
   ],
   "outputs": [
    {
     "name": "stdout",
     "output_type": "stream",
     "text": [
      " Alabama \n",
      "Georgia\n",
      "Georgia\n",
      "georgia\n",
      "FlOrIda\n",
      "south carolina\n",
      "West virginia\n"
     ]
    }
   ],
   "execution_count": 115
  },
  {
   "metadata": {
    "ExecuteTime": {
     "end_time": "2025-10-26T12:17:50.030224Z",
     "start_time": "2025-10-26T12:17:50.008721Z"
    }
   },
   "cell_type": "code",
   "source": [
    "def clean_text_pipeline():\n",
    "    def strip_text(s):\n",
    "        return s.strip()\n",
    "\n",
    "    def remove_punctuation(s):\n",
    "        import re\n",
    "        return re.sub(r\"[!#?]\", \"\", s)\n",
    "\n",
    "    def title_case(s):\n",
    "        return s.title()\n",
    "\n",
    "    def full_clean(s):\n",
    "        s = strip_text(s)\n",
    "        s = remove_punctuation(s)\n",
    "        s = title_case(s)\n",
    "        return s\n",
    "\n",
    "    return full_clean\n",
    "\n",
    "# Create the cleaning function\n",
    "clean_fn = clean_text_pipeline()\n",
    "\n",
    "# Apply it to a list of strings using map\n",
    "cleaned = list(map(clean_fn, states))\n",
    "cleaned"
   ],
   "id": "4ea87bf7c46ecc76",
   "outputs": [
    {
     "data": {
      "text/plain": [
       "['Alabama',\n",
       " 'Georgia',\n",
       " 'Georgia',\n",
       " 'Georgia',\n",
       " 'Florida',\n",
       " 'South Carolina',\n",
       " 'West Virginia']"
      ]
     },
     "execution_count": 119,
     "metadata": {},
     "output_type": "execute_result"
    }
   ],
   "execution_count": 119
  },
  {
   "cell_type": "markdown",
   "id": "cd5adcee",
   "metadata": {},
   "source": [
    "## 3. Anonymous (Lambda) functions"
   ]
  },
  {
   "metadata": {
    "ExecuteTime": {
     "end_time": "2025-10-26T12:23:04.369157Z",
     "start_time": "2025-10-26T12:23:04.360733Z"
    }
   },
   "cell_type": "code",
   "source": [
    "def short_function(x):\n",
    "    return x*2\n",
    "short_function(5)"
   ],
   "id": "d5635db7c4ae4f54",
   "outputs": [
    {
     "data": {
      "text/plain": [
       "10"
      ]
     },
     "execution_count": 123,
     "metadata": {},
     "output_type": "execute_result"
    }
   ],
   "execution_count": 123
  },
  {
   "metadata": {
    "ExecuteTime": {
     "end_time": "2025-10-26T12:24:28.443406Z",
     "start_time": "2025-10-26T12:24:28.438278Z"
    }
   },
   "cell_type": "code",
   "source": [
    "# Use lambda function\n",
    "short_func = lambda x: x*2\n",
    "short_func(5)"
   ],
   "id": "98a42c9f6541861b",
   "outputs": [
    {
     "data": {
      "text/plain": [
       "10"
      ]
     },
     "execution_count": 127,
     "metadata": {},
     "output_type": "execute_result"
    }
   ],
   "execution_count": 127
  },
  {
   "cell_type": "code",
   "id": "270c3e9e",
   "metadata": {
    "ExecuteTime": {
     "end_time": "2025-10-26T12:18:30.702577Z",
     "start_time": "2025-10-26T12:18:30.693001Z"
    }
   },
   "source": [
    "def apply_to_list(some_list, f):\n",
    "    return [f(x) for x in some_list]\n",
    "\n",
    "ints = [4, 0, 1, 5, 6]\n",
    "apply_to_list(ints, lambda x: x * 2)"
   ],
   "outputs": [
    {
     "data": {
      "text/plain": [
       "[8, 0, 2, 10, 12]"
      ]
     },
     "execution_count": 120,
     "metadata": {},
     "output_type": "execute_result"
    }
   ],
   "execution_count": 120
  },
  {
   "metadata": {
    "ExecuteTime": {
     "end_time": "2025-10-26T12:26:15.222191Z",
     "start_time": "2025-10-26T12:26:15.212613Z"
    }
   },
   "cell_type": "code",
   "source": [
    "# Or we can use list comprehension here\n",
    "[x * 2 for x in ints]"
   ],
   "id": "c1aff4deaecc3f3d",
   "outputs": [
    {
     "data": {
      "text/plain": [
       "[8, 0, 2, 10, 12]"
      ]
     },
     "execution_count": 128,
     "metadata": {},
     "output_type": "execute_result"
    }
   ],
   "execution_count": 128
  },
  {
   "cell_type": "code",
   "id": "9279d837",
   "metadata": {
    "ExecuteTime": {
     "end_time": "2025-10-26T12:27:00.280107Z",
     "start_time": "2025-10-26T12:27:00.270690Z"
    }
   },
   "source": [
    "strings = [\"foo\", \"card\", \"bar\", \"aaaa\", \"abab\"]\n",
    "\n",
    "# Sort a collection of strings by the number of distinct letters in each\n",
    "strings.sort(key=lambda x: len(set(x)))\n",
    "\n",
    "strings"
   ],
   "outputs": [
    {
     "data": {
      "text/plain": [
       "['aaaa', 'foo', 'abab', 'bar', 'card']"
      ]
     },
     "execution_count": 129,
     "metadata": {},
     "output_type": "execute_result"
    }
   ],
   "execution_count": 129
  },
  {
   "cell_type": "markdown",
   "id": "78c2a43c",
   "metadata": {},
   "source": [
    "## 4. Generator"
   ]
  },
  {
   "cell_type": "code",
   "id": "1b3eff95",
   "metadata": {
    "ExecuteTime": {
     "end_time": "2025-10-26T12:27:20.343036Z",
     "start_time": "2025-10-26T12:27:20.336031Z"
    }
   },
   "source": [
    "some_dict = {\"a\": 1, \"b\": 2, \"c\": 3}\n",
    "\n",
    "for key in some_dict:\n",
    "    print(key)"
   ],
   "outputs": [
    {
     "name": "stdout",
     "output_type": "stream",
     "text": [
      "a\n",
      "b\n",
      "c\n"
     ]
    }
   ],
   "execution_count": 130
  },
  {
   "cell_type": "code",
   "id": "b1a5de9c",
   "metadata": {
    "ExecuteTime": {
     "end_time": "2025-10-26T12:27:24.654626Z",
     "start_time": "2025-10-26T12:27:24.646439Z"
    }
   },
   "source": [
    "# Create an interator object\n",
    "dict_iterator = iter(some_dict)\n",
    "dict_iterator"
   ],
   "outputs": [
    {
     "data": {
      "text/plain": [
       "<dict_keyiterator at 0x1d0560a5da0>"
      ]
     },
     "execution_count": 131,
     "metadata": {},
     "output_type": "execute_result"
    }
   ],
   "execution_count": 131
  },
  {
   "cell_type": "code",
   "id": "4d4c1a56",
   "metadata": {
    "ExecuteTime": {
     "end_time": "2025-10-26T12:27:32.872703Z",
     "start_time": "2025-10-26T12:27:32.866508Z"
    }
   },
   "source": [
    "list(dict_iterator)"
   ],
   "outputs": [
    {
     "data": {
      "text/plain": [
       "['a', 'b', 'c']"
      ]
     },
     "execution_count": 132,
     "metadata": {},
     "output_type": "execute_result"
    }
   ],
   "execution_count": 132
  },
  {
   "metadata": {},
   "cell_type": "markdown",
   "source": [
    "A ***generator*** is a convenient way, similar to writing a normal function, to construct a new iterable object.\n",
    "Whereas normal functions execute and return a single result at a time, generators can return a sequence of multiple values by pausing and resuming execution each time the generator is used."
   ],
   "id": "a60615bd022d288e"
  },
  {
   "cell_type": "code",
   "id": "b535b7bc",
   "metadata": {
    "ExecuteTime": {
     "end_time": "2025-10-26T12:31:50.920635Z",
     "start_time": "2025-10-26T12:31:50.913820Z"
    }
   },
   "source": [
    "# To create a generator, use the yield keyword instead of 'return' in a function\n",
    "def squares(n=10):\n",
    "    print(f\"Generating squares from 1 to {n**2}:\")\n",
    "    for i in range(1, n+1):\n",
    "        yield i ** 2\n",
    "\n",
    "gen = squares()"
   ],
   "outputs": [],
   "execution_count": 133
  },
  {
   "cell_type": "code",
   "id": "b369c2ec",
   "metadata": {
    "ExecuteTime": {
     "end_time": "2025-10-26T12:32:20.586869Z",
     "start_time": "2025-10-26T12:32:20.579031Z"
    }
   },
   "source": [
    "# Call the generator, no code is immediately executed\n",
    "gen"
   ],
   "outputs": [
    {
     "data": {
      "text/plain": [
       "<generator object squares at 0x000001D0560275A0>"
      ]
     },
     "execution_count": 135,
     "metadata": {},
     "output_type": "execute_result"
    }
   ],
   "execution_count": 135
  },
  {
   "cell_type": "code",
   "id": "34c8ade2",
   "metadata": {
    "ExecuteTime": {
     "end_time": "2025-10-26T12:32:29.361922Z",
     "start_time": "2025-10-26T12:32:29.354959Z"
    }
   },
   "source": [
    "for x in gen:\n",
    "    print(x, end=\" \")"
   ],
   "outputs": [
    {
     "name": "stdout",
     "output_type": "stream",
     "text": [
      "Generating squares from 1 to 100:\n",
      "1 4 9 16 25 36 49 64 81 100 "
     ]
    }
   ],
   "execution_count": 136
  },
  {
   "cell_type": "markdown",
   "id": "2552d153",
   "metadata": {},
   "source": [
    "### Generator expressions"
   ]
  },
  {
   "cell_type": "code",
   "id": "32f12a60",
   "metadata": {
    "ExecuteTime": {
     "end_time": "2025-10-26T12:33:39.289285Z",
     "start_time": "2025-10-26T12:33:39.280103Z"
    }
   },
   "source": [
    "# Enclose what would otherwise be a list comprehension within parentheses\n",
    "gen = (x ** 2 for x in range(100))\n",
    "gen"
   ],
   "outputs": [
    {
     "data": {
      "text/plain": [
       "<generator object <genexpr> at 0x000001D0557F39F0>"
      ]
     },
     "execution_count": 137,
     "metadata": {},
     "output_type": "execute_result"
    }
   ],
   "execution_count": 137
  },
  {
   "cell_type": "code",
   "id": "8666d818",
   "metadata": {
    "ExecuteTime": {
     "end_time": "2025-10-26T12:34:19.863305Z",
     "start_time": "2025-10-26T12:34:19.852734Z"
    }
   },
   "source": [
    "# Equivalent to this\n",
    "def _make_gen():\n",
    "    for x in range(100):\n",
    "        yield x ** 2\n",
    "        \n",
    "gen = _make_gen()\n",
    "gen"
   ],
   "outputs": [
    {
     "data": {
      "text/plain": [
       "<generator object _make_gen at 0x000001D056015CC0>"
      ]
     },
     "execution_count": 138,
     "metadata": {},
     "output_type": "execute_result"
    }
   ],
   "execution_count": 138
  },
  {
   "cell_type": "code",
   "id": "f318e73c",
   "metadata": {
    "ExecuteTime": {
     "end_time": "2025-10-26T12:34:24.447755Z",
     "start_time": "2025-10-26T12:34:24.439007Z"
    }
   },
   "source": [
    "sum(x**2 for x in range(100))"
   ],
   "outputs": [
    {
     "data": {
      "text/plain": [
       "328350"
      ]
     },
     "execution_count": 139,
     "metadata": {},
     "output_type": "execute_result"
    }
   ],
   "execution_count": 139
  },
  {
   "cell_type": "code",
   "id": "9798a9a6",
   "metadata": {
    "ExecuteTime": {
     "end_time": "2025-10-26T12:34:30.389611Z",
     "start_time": "2025-10-26T12:34:30.381692Z"
    }
   },
   "source": [
    "dict((i, i**2) for i in range(5))"
   ],
   "outputs": [
    {
     "data": {
      "text/plain": [
       "{0: 0, 1: 1, 2: 4, 3: 9, 4: 16}"
      ]
     },
     "execution_count": 140,
     "metadata": {},
     "output_type": "execute_result"
    }
   ],
   "execution_count": 140
  },
  {
   "cell_type": "markdown",
   "id": "30bb96fd",
   "metadata": {},
   "source": [
    "### itertools module"
   ]
  },
  {
   "cell_type": "code",
   "id": "6c905aff",
   "metadata": {
    "ExecuteTime": {
     "end_time": "2025-10-26T12:35:36.210529Z",
     "start_time": "2025-10-26T12:35:36.204860Z"
    }
   },
   "source": [
    "import itertools\n",
    "\n",
    "def first_letter(x):\n",
    "    return x[0]"
   ],
   "outputs": [],
   "execution_count": 141
  },
  {
   "cell_type": "code",
   "id": "864c1e43",
   "metadata": {
    "ExecuteTime": {
     "end_time": "2025-10-26T12:35:38.447357Z",
     "start_time": "2025-10-26T12:35:38.440843Z"
    }
   },
   "source": [
    "names = [\"Alan\", \"Adam\", \"Wes\", \"Will\", \"Albert\", \"Steven\"]\n",
    "\n",
    "for letter, names in itertools.groupby(names, first_letter):\n",
    "    print(letter, list(names)) # names is a generator"
   ],
   "outputs": [
    {
     "name": "stdout",
     "output_type": "stream",
     "text": [
      "A ['Alan', 'Adam']\n",
      "W ['Wes', 'Will']\n",
      "A ['Albert']\n",
      "S ['Steven']\n"
     ]
    }
   ],
   "execution_count": 142
  }
 ],
 "metadata": {
  "kernelspec": {
   "display_name": "Python 3 (ipykernel)",
   "language": "python",
   "name": "python3"
  },
  "language_info": {
   "codemirror_mode": {
    "name": "ipython",
    "version": 3
   },
   "file_extension": ".py",
   "mimetype": "text/x-python",
   "name": "python",
   "nbconvert_exporter": "python",
   "pygments_lexer": "ipython3",
   "version": "3.10.8"
  }
 },
 "nbformat": 4,
 "nbformat_minor": 5
}
