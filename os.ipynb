{
 "cells": [
  {
   "cell_type": "markdown",
   "id": "deb91dee",
   "metadata": {},
   "source": [
    "# OS Module"
   ]
  },
  {
   "cell_type": "code",
   "execution_count": 2,
   "id": "7cc177ad",
   "metadata": {},
   "outputs": [
    {
     "name": "stdout",
     "output_type": "stream",
     "text": [
      "['DirEntry', 'F_OK', 'GenericAlias', 'Mapping', 'MutableMapping', 'O_APPEND', 'O_BINARY', 'O_CREAT', 'O_EXCL', 'O_NOINHERIT', 'O_RANDOM', 'O_RDONLY', 'O_RDWR', 'O_SEQUENTIAL', 'O_SHORT_LIVED', 'O_TEMPORARY', 'O_TEXT', 'O_TRUNC', 'O_WRONLY', 'P_DETACH', 'P_NOWAIT', 'P_NOWAITO', 'P_OVERLAY', 'P_WAIT', 'PathLike', 'R_OK', 'SEEK_CUR', 'SEEK_END', 'SEEK_SET', 'TMP_MAX', 'W_OK', 'X_OK', '_AddedDllDirectory', '_Environ', '__all__', '__builtins__', '__cached__', '__doc__', '__file__', '__loader__', '__name__', '__package__', '__spec__', '_check_methods', '_execvpe', '_exists', '_exit', '_fspath', '_get_exports_list', '_walk', '_wrap_close', 'abc', 'abort', 'access', 'add_dll_directory', 'altsep', 'chdir', 'chmod', 'close', 'closerange', 'cpu_count', 'curdir', 'defpath', 'device_encoding', 'devnull', 'dup', 'dup2', 'environ', 'error', 'execl', 'execle', 'execlp', 'execlpe', 'execv', 'execve', 'execvp', 'execvpe', 'extsep', 'fdopen', 'fsdecode', 'fsencode', 'fspath', 'fstat', 'fsync', 'ftruncate', 'get_exec_path', 'get_handle_inheritable', 'get_inheritable', 'get_terminal_size', 'getcwd', 'getcwdb', 'getenv', 'getlogin', 'getpid', 'getppid', 'isatty', 'kill', 'linesep', 'link', 'listdir', 'lseek', 'lstat', 'makedirs', 'mkdir', 'name', 'open', 'pardir', 'path', 'pathsep', 'pipe', 'popen', 'putenv', 'read', 'readlink', 'remove', 'removedirs', 'rename', 'renames', 'replace', 'rmdir', 'scandir', 'sep', 'set_handle_inheritable', 'set_inheritable', 'spawnl', 'spawnle', 'spawnv', 'spawnve', 'st', 'startfile', 'stat', 'stat_result', 'statvfs_result', 'strerror', 'supports_bytes_environ', 'supports_dir_fd', 'supports_effective_ids', 'supports_fd', 'supports_follow_symlinks', 'symlink', 'sys', 'system', 'terminal_size', 'times', 'times_result', 'truncate', 'umask', 'uname_result', 'unlink', 'unsetenv', 'urandom', 'utime', 'waitpid', 'waitstatus_to_exitcode', 'walk', 'write']\n"
     ]
    }
   ],
   "source": [
    "import os\n",
    "\n",
    "# All methods in 'os' module\n",
    "print(dir(os))"
   ]
  },
  {
   "cell_type": "code",
   "execution_count": 3,
   "id": "79398d54",
   "metadata": {},
   "outputs": [
    {
     "name": "stdout",
     "output_type": "stream",
     "text": [
      "C:\\Users\\Admin\n"
     ]
    }
   ],
   "source": [
    "# Current directory\n",
    "print(os.getcwd())"
   ]
  },
  {
   "cell_type": "code",
   "execution_count": 5,
   "id": "a8dd2fae",
   "metadata": {},
   "outputs": [],
   "source": [
    "# Change the directory\n",
    "os.chdir('Desktop')"
   ]
  },
  {
   "cell_type": "code",
   "execution_count": 6,
   "id": "beed0625",
   "metadata": {},
   "outputs": [
    {
     "name": "stdout",
     "output_type": "stream",
     "text": [
      "C:\\Users\\Admin\\Desktop\n"
     ]
    }
   ],
   "source": [
    "print(os.getcwd())"
   ]
  },
  {
   "cell_type": "code",
   "execution_count": 13,
   "id": "7a17ca20",
   "metadata": {},
   "outputs": [
    {
     "name": "stdout",
     "output_type": "stream",
     "text": [
      "['AW_Sales', 'bisect.ipynb', 'desktop.ini', 'lambda.ipynb', 'MavenMarket Transactions', 'text.txt', '~$view Chemical Hearts.docx', '~$ảo Yến.docx']\n"
     ]
    }
   ],
   "source": [
    "# List of files and folders on the current directory\n",
    "print(os.listdir())"
   ]
  },
  {
   "cell_type": "code",
   "execution_count": 14,
   "id": "7773428c",
   "metadata": {},
   "outputs": [
    {
     "name": "stdout",
     "output_type": "stream",
     "text": [
      "['AW_Sales', 'bisect.ipynb', 'desktop.ini', 'lambda.ipynb', 'MavenMarket Transactions', 'OS-Demo-2', 'text.txt', '~$view Chemical Hearts.docx', '~$ảo Yến.docx']\n"
     ]
    }
   ],
   "source": [
    "# Create a directory\n",
    "os.mkdir('OS-Demo-2')\n",
    "print(os.listdir())"
   ]
  },
  {
   "cell_type": "code",
   "execution_count": 15,
   "id": "2a3351d1",
   "metadata": {},
   "outputs": [
    {
     "name": "stdout",
     "output_type": "stream",
     "text": [
      "['AW_Sales', 'bisect.ipynb', 'desktop.ini', 'lambda.ipynb', 'MavenMarket Transactions', 'OS-Demo-2', 'text.txt', '~$view Chemical Hearts.docx', '~$ảo Yến.docx']\n"
     ]
    }
   ],
   "source": [
    "# Create a subdirectory under a directory\n",
    "os.makedirs('OS-Demo-2\\Sub-Dir-1')\n",
    "print(os.listdir())"
   ]
  },
  {
   "cell_type": "code",
   "execution_count": 16,
   "id": "a8192c4a",
   "metadata": {},
   "outputs": [
    {
     "name": "stdout",
     "output_type": "stream",
     "text": [
      "['AW_Sales', 'bisect.ipynb', 'desktop.ini', 'lambda.ipynb', 'MavenMarket Transactions', 'OS-Demo-2', 'text.txt', '~$view Chemical Hearts.docx', '~$ảo Yến.docx']\n"
     ]
    }
   ],
   "source": [
    "# Delete an empty directory\n",
    "# os.rmdir('path')\n",
    "\n",
    "# Delete the specified directory\n",
    "os.removedirs('OS-Demo-2\\Sub-Dir-1')\n",
    "print(os.listdir())"
   ]
  },
  {
   "cell_type": "code",
   "execution_count": 17,
   "id": "ffe5a277",
   "metadata": {},
   "outputs": [
    {
     "name": "stdout",
     "output_type": "stream",
     "text": [
      "['AW_Sales', 'bisect.ipynb', 'desktop.ini', 'lambda.ipynb', 'MavenMarket Transactions', 'text.txt', '~$view Chemical Hearts.docx', '~$ảo Yến.docx']\n"
     ]
    }
   ],
   "source": [
    "os.removedirs('OS-Demo-2')\n",
    "print(os.listdir())"
   ]
  },
  {
   "cell_type": "code",
   "execution_count": 18,
   "id": "8e8d5e7b",
   "metadata": {},
   "outputs": [
    {
     "name": "stdout",
     "output_type": "stream",
     "text": [
      "['AW_Sales', 'bisect.ipynb', 'demo.txt', 'desktop.ini', 'lambda.ipynb', 'MavenMarket Transactions', '~$view Chemical Hearts.docx', '~$ảo Yến.docx']\n"
     ]
    }
   ],
   "source": [
    "# Rename a file\n",
    "os.rename('text.txt', 'demo.txt')\n",
    "print(os.listdir())"
   ]
  },
  {
   "cell_type": "code",
   "execution_count": 19,
   "id": "32feaa28",
   "metadata": {},
   "outputs": [
    {
     "name": "stdout",
     "output_type": "stream",
     "text": [
      "os.stat_result(st_mode=33206, st_ino=38280596832776252, st_dev=3403907811, st_nlink=1, st_uid=0, st_gid=0, st_size=15, st_atime=1669255762, st_mtime=1669255762, st_ctime=1669255762)\n"
     ]
    }
   ],
   "source": [
    "print(os.stat('demo.txt'))"
   ]
  },
  {
   "cell_type": "code",
   "execution_count": 20,
   "id": "fa59cd2c",
   "metadata": {},
   "outputs": [
    {
     "name": "stdout",
     "output_type": "stream",
     "text": [
      "2022-11-24 09:09:22.534379\n"
     ]
    }
   ],
   "source": [
    "# Print out the human readable time\n",
    "\n",
    "from datetime import datetime\n",
    "\n",
    "mod_time = os.stat('demo.txt').st_mtime\n",
    "print(datetime.fromtimestamp(mod_time))"
   ]
  },
  {
   "cell_type": "code",
   "execution_count": 25,
   "id": "c634c8a2",
   "metadata": {},
   "outputs": [
    {
     "name": "stdout",
     "output_type": "stream",
     "text": [
      "Current Path: C:/Users/Admin/Desktop\n",
      "Directories: ['AW_Sales', 'MavenMarket Transactions']\n",
      "Files: ['bisect.ipynb', 'demo.txt', 'desktop.ini', 'lambda.ipynb', '~$view Chemical Hearts.docx', '~$ảo Yến.docx']\n",
      "\n",
      "Current Path: C:/Users/Admin/Desktop\\AW_Sales\n",
      "Directories: []\n",
      "Files: ['AdventureWorks_Sales_2015.csv', 'AdventureWorks_Sales_2016.csv', 'AdventureWorks_Sales_2017.csv']\n",
      "\n",
      "Current Path: C:/Users/Admin/Desktop\\MavenMarket Transactions\n",
      "Directories: []\n",
      "Files: ['MavenMarket_Transactions_1997.csv', 'MavenMarket_Transactions_1998.csv']\n",
      "\n"
     ]
    }
   ],
   "source": [
    "# See the whole directory tree\n",
    "\n",
    "for dirpath, dirnames, filenames in os.walk('C:/Users/Admin/Desktop'):\n",
    "    print('Current Path:', dirpath)\n",
    "    print('Directories:', dirnames)\n",
    "    print('Files:', filenames)\n",
    "    print()"
   ]
  },
  {
   "cell_type": "code",
   "execution_count": 29,
   "id": "e59db903",
   "metadata": {},
   "outputs": [
    {
     "name": "stdout",
     "output_type": "stream",
     "text": [
      "C:\\Users\\Admin\\AppData\\Local\\Temp\n"
     ]
    }
   ],
   "source": [
    "# Get the environment variable\n",
    "print(os.environ.get('TEMP'))"
   ]
  },
  {
   "cell_type": "code",
   "execution_count": 30,
   "id": "73431795",
   "metadata": {},
   "outputs": [
    {
     "name": "stdout",
     "output_type": "stream",
     "text": [
      "C:\\Users\\Admin\\AppData\\Local\\Temp\\test.txt\n"
     ]
    }
   ],
   "source": [
    "# Create a new path\n",
    "file_path = os.path.join(os.environ.get('TEMP'), 'test.txt')\n",
    "print(file_path)"
   ]
  },
  {
   "cell_type": "code",
   "execution_count": 41,
   "id": "3487ddd9",
   "metadata": {},
   "outputs": [
    {
     "name": "stdout",
     "output_type": "stream",
     "text": [
      "test.txt\n"
     ]
    }
   ],
   "source": [
    "# Print out all filenames we are working on (doesn't have to be real path)\n",
    "print(os.path.basename('_Temp/test.txt'))"
   ]
  },
  {
   "cell_type": "code",
   "execution_count": 42,
   "id": "ade62dfd",
   "metadata": {},
   "outputs": [
    {
     "name": "stdout",
     "output_type": "stream",
     "text": [
      "_Temp\n"
     ]
    }
   ],
   "source": [
    "print(os.path.dirname('_Temp/test.txt'))"
   ]
  },
  {
   "cell_type": "code",
   "execution_count": 34,
   "id": "0e2f4584",
   "metadata": {},
   "outputs": [
    {
     "name": "stdout",
     "output_type": "stream",
     "text": [
      "('_Temp', 'test.txt')\n"
     ]
    }
   ],
   "source": [
    "print(os.path.split('_Temp/test.txt'))"
   ]
  },
  {
   "cell_type": "code",
   "execution_count": 43,
   "id": "6ecb32b1",
   "metadata": {},
   "outputs": [
    {
     "name": "stdout",
     "output_type": "stream",
     "text": [
      "False\n"
     ]
    }
   ],
   "source": [
    "# Check the existence of a path\n",
    "print(os.path.exists('_Temp/test.txt'))"
   ]
  },
  {
   "cell_type": "code",
   "execution_count": 47,
   "id": "f479257e",
   "metadata": {},
   "outputs": [
    {
     "name": "stdout",
     "output_type": "stream",
     "text": [
      "True\n"
     ]
    }
   ],
   "source": [
    "# Check if it is a directory\n",
    "print(os.path.isdir('/Users/Admin/AppData/Local/Temp/'))"
   ]
  },
  {
   "cell_type": "code",
   "execution_count": 49,
   "id": "381d7217",
   "metadata": {},
   "outputs": [
    {
     "name": "stdout",
     "output_type": "stream",
     "text": [
      "True\n"
     ]
    }
   ],
   "source": [
    "# Check if it is a file\n",
    "print(os.path.isfile('/Users/Admin/AppData/Local/Temp/test.txt'))"
   ]
  },
  {
   "cell_type": "code",
   "execution_count": 51,
   "id": "dd5d0d81",
   "metadata": {},
   "outputs": [
    {
     "name": "stdout",
     "output_type": "stream",
     "text": [
      "('/Users/Admin/AppData/Local/Temp/test', '.txt')\n"
     ]
    }
   ],
   "source": [
    "# Split the file root of the path and the extension (instead of slicing)\n",
    "print(os.path.splitext('/Users/Admin/AppData/Local/Temp/test.txt'))"
   ]
  },
  {
   "cell_type": "code",
   "execution_count": 53,
   "id": "95d9363a",
   "metadata": {},
   "outputs": [
    {
     "name": "stdout",
     "output_type": "stream",
     "text": [
      "['_LCMAP_LOWERCASE', '_LCMapStringEx', '_LOCALE_NAME_INVARIANT', '__all__', '__builtins__', '__cached__', '__doc__', '__file__', '__loader__', '__name__', '__package__', '__spec__', '_abspath_fallback', '_get_bothseps', '_getfinalpathname', '_getfinalpathname_nonstrict', '_getfullpathname', '_getvolumepathname', '_nt_readlink', '_readlink_deep', 'abspath', 'altsep', 'basename', 'commonpath', 'commonprefix', 'curdir', 'defpath', 'devnull', 'dirname', 'exists', 'expanduser', 'expandvars', 'extsep', 'genericpath', 'getatime', 'getctime', 'getmtime', 'getsize', 'isabs', 'isdir', 'isfile', 'islink', 'ismount', 'join', 'lexists', 'normcase', 'normpath', 'os', 'pardir', 'pathsep', 'realpath', 'relpath', 'samefile', 'sameopenfile', 'samestat', 'sep', 'split', 'splitdrive', 'splitext', 'stat', 'supports_unicode_filenames', 'sys']\n"
     ]
    }
   ],
   "source": [
    "# All available methods in 'os.path' module\n",
    "print(dir(os.path))"
   ]
  }
 ],
 "metadata": {
  "kernelspec": {
   "display_name": "Python 3 (ipykernel)",
   "language": "python",
   "name": "python3"
  },
  "language_info": {
   "codemirror_mode": {
    "name": "ipython",
    "version": 3
   },
   "file_extension": ".py",
   "mimetype": "text/x-python",
   "name": "python",
   "nbconvert_exporter": "python",
   "pygments_lexer": "ipython3",
   "version": "3.10.8"
  }
 },
 "nbformat": 4,
 "nbformat_minor": 5
}
