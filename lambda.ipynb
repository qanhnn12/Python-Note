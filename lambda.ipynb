{
 "cells": [
  {
   "cell_type": "markdown",
   "id": "89767ee8",
   "metadata": {},
   "source": [
    "# Lambda"
   ]
  },
  {
   "cell_type": "markdown",
   "id": "0d02644f",
   "metadata": {},
   "source": [
    "A lambda function is a small (one line) anonymous function defined without a name.\n",
    "\n",
    "***Lambda arguments: expession***"
   ]
  },
  {
   "cell_type": "code",
   "execution_count": 1,
   "id": "84df62e8",
   "metadata": {},
   "outputs": [
    {
     "data": {
      "text/plain": [
       "70"
      ]
     },
     "execution_count": 1,
     "metadata": {},
     "output_type": "execute_result"
    }
   ],
   "source": [
    "# Example 1: Add 69 to an input argument\n",
    "def add_69(num):\n",
    "    return num + 69\n",
    "\n",
    "add_69(1)"
   ]
  },
  {
   "cell_type": "code",
   "execution_count": 2,
   "id": "581271ae",
   "metadata": {},
   "outputs": [
    {
     "data": {
      "text/plain": [
       "<function __main__.<lambda>(num)>"
      ]
     },
     "execution_count": 2,
     "metadata": {},
     "output_type": "execute_result"
    }
   ],
   "source": [
    "addnum = lambda num: num + 69\n",
    "addnum"
   ]
  },
  {
   "cell_type": "code",
   "execution_count": 3,
   "id": "7032e2a8",
   "metadata": {},
   "outputs": [
    {
     "data": {
      "text/plain": [
       "70"
      ]
     },
     "execution_count": 3,
     "metadata": {},
     "output_type": "execute_result"
    }
   ],
   "source": [
    "addnum(1)"
   ]
  },
  {
   "cell_type": "code",
   "execution_count": 4,
   "id": "9737a4fa",
   "metadata": {},
   "outputs": [
    {
     "data": {
      "text/plain": [
       "2"
      ]
     },
     "execution_count": 4,
     "metadata": {},
     "output_type": "execute_result"
    }
   ],
   "source": [
    "# Example 2: x + y - z\n",
    "cal = lambda x,y,z: x+y-z\n",
    "\n",
    "cal(1,3,2)"
   ]
  },
  {
   "cell_type": "markdown",
   "id": "f5f07416",
   "metadata": {},
   "source": [
    "## 1. Custom sort using lambda as key parameter."
   ]
  },
  {
   "cell_type": "code",
   "execution_count": 6,
   "id": "a6a22b91",
   "metadata": {},
   "outputs": [],
   "source": [
    "# Example 1: Sort the coordinates by x or by y\n",
    "coordinate2D = [(6,9), (9,6), (-1,3), (2,10)]"
   ]
  },
  {
   "cell_type": "code",
   "execution_count": 7,
   "id": "c757b4b6",
   "metadata": {},
   "outputs": [
    {
     "data": {
      "text/plain": [
       "[(-1, 3), (2, 10), (6, 9), (9, 6)]"
      ]
     },
     "execution_count": 7,
     "metadata": {},
     "output_type": "execute_result"
    }
   ],
   "source": [
    "# Sort by x\n",
    "sorted(coordinate2D)"
   ]
  },
  {
   "cell_type": "code",
   "execution_count": 8,
   "id": "0a481ba9",
   "metadata": {},
   "outputs": [
    {
     "data": {
      "text/plain": [
       "[(-1, 3), (9, 6), (6, 9), (2, 10)]"
      ]
     },
     "execution_count": 8,
     "metadata": {},
     "output_type": "execute_result"
    }
   ],
   "source": [
    "# Sort by y\n",
    "sorted(coordinate2D, key=lambda point: point[1])"
   ]
  },
  {
   "cell_type": "code",
   "execution_count": 9,
   "id": "49c19a58",
   "metadata": {},
   "outputs": [],
   "source": [
    "# Example 2: Sort by pairs\n",
    "number_list = [5,3,-2,4,1,-1,4,5]"
   ]
  },
  {
   "cell_type": "code",
   "execution_count": 10,
   "id": "8d43b2d1",
   "metadata": {},
   "outputs": [
    {
     "data": {
      "text/plain": [
       "[-2, -1, 1, 3, 4, 4, 5, 5]"
      ]
     },
     "execution_count": 10,
     "metadata": {},
     "output_type": "execute_result"
    }
   ],
   "source": [
    "# Sort by default\n",
    "sorted(number_list)"
   ]
  },
  {
   "cell_type": "code",
   "execution_count": 11,
   "id": "3b348402",
   "metadata": {},
   "outputs": [
    {
     "data": {
      "text/plain": [
       "[1, -1, -2, 3, 4, 4, 5, 5]"
      ]
     },
     "execution_count": 11,
     "metadata": {},
     "output_type": "execute_result"
    }
   ],
   "source": [
    "# Sort by absolute value\n",
    "sorted(number_list, key=lambda x: abs(x))"
   ]
  },
  {
   "cell_type": "markdown",
   "id": "b5e41e46",
   "metadata": {},
   "source": [
    "## 2. Use lambda for map()\n",
    "\n",
    "***map(func, seq)***: transforms each element with the function."
   ]
  },
  {
   "cell_type": "code",
   "execution_count": 12,
   "id": "857f83d7",
   "metadata": {},
   "outputs": [],
   "source": [
    "# Example 1: Capitalize the first letter of each keyword in a list \n",
    "list_keyword = [\"anh nguyen\", \"welcome\", \"you guys\"]"
   ]
  },
  {
   "cell_type": "code",
   "execution_count": 13,
   "id": "2f4b374c",
   "metadata": {},
   "outputs": [
    {
     "data": {
      "text/plain": [
       "<map at 0x22129840fd0>"
      ]
     },
     "execution_count": 13,
     "metadata": {},
     "output_type": "execute_result"
    }
   ],
   "source": [
    "map(lambda x: x.title(), list_keyword)"
   ]
  },
  {
   "cell_type": "code",
   "execution_count": 19,
   "id": "391be9ce",
   "metadata": {},
   "outputs": [
    {
     "data": {
      "text/plain": [
       "['Anh Nguyen', 'Welcome', 'You Guys']"
      ]
     },
     "execution_count": 19,
     "metadata": {},
     "output_type": "execute_result"
    }
   ],
   "source": [
    "# Approach 1: Use list + map + lambda\n",
    "new_list = list(map(lambda x: x.title(), list_keyword))\n",
    "new_list"
   ]
  },
  {
   "cell_type": "code",
   "execution_count": 22,
   "id": "66484845",
   "metadata": {},
   "outputs": [
    {
     "data": {
      "text/plain": [
       "['Anh Nguyen', 'Welcome', 'You Guys']"
      ]
     },
     "execution_count": 22,
     "metadata": {},
     "output_type": "execute_result"
    }
   ],
   "source": [
    "# Approach 2: Use for loop\n",
    "new_list1 = [keyword.title() for keyword in list_keyword]\n",
    "new_list1"
   ]
  },
  {
   "cell_type": "markdown",
   "id": "29d3951a",
   "metadata": {},
   "source": [
    "## 3. Use lambda for filter()\n",
    "\n",
    "***filter(func, seq)***: returns all elements for which function evaluates to True."
   ]
  },
  {
   "cell_type": "code",
   "execution_count": 16,
   "id": "9e1fffeb",
   "metadata": {},
   "outputs": [],
   "source": [
    "# Example: Return odds\n",
    "list_number = [1,2,3,4,5,6,7,8,9,10]"
   ]
  },
  {
   "cell_type": "code",
   "execution_count": 17,
   "id": "c1b10068",
   "metadata": {},
   "outputs": [
    {
     "data": {
      "text/plain": [
       "<filter at 0x221298426b0>"
      ]
     },
     "execution_count": 17,
     "metadata": {},
     "output_type": "execute_result"
    }
   ],
   "source": [
    "filter(lambda x: x%2 != 0, list_number)"
   ]
  },
  {
   "cell_type": "code",
   "execution_count": 23,
   "id": "d1f9f575",
   "metadata": {},
   "outputs": [
    {
     "data": {
      "text/plain": [
       "[1, 3, 5, 7, 9]"
      ]
     },
     "execution_count": 23,
     "metadata": {},
     "output_type": "execute_result"
    }
   ],
   "source": [
    "# Approach 1: Use list + filter + lambda\n",
    "new_list2 = list(filter(lambda x: x%2 != 0, list_number))\n",
    "new_list2"
   ]
  },
  {
   "cell_type": "code",
   "execution_count": 24,
   "id": "f67ef198",
   "metadata": {},
   "outputs": [
    {
     "data": {
      "text/plain": [
       "[1, 3, 5, 7, 9]"
      ]
     },
     "execution_count": 24,
     "metadata": {},
     "output_type": "execute_result"
    }
   ],
   "source": [
    "# Approach 2: Use for loop\n",
    "new_list2 = [x for x in list_number if x%2 != 0]\n",
    "new_list2"
   ]
  },
  {
   "cell_type": "markdown",
   "id": "7406fbe9",
   "metadata": {},
   "source": [
    "# 4. Use lambda for reduce()\n",
    "\n",
    "***reduce(func, seq)***: repeatedly applies the function to the elements and returns a single value, ***func*** takes 2 arguments."
   ]
  },
  {
   "cell_type": "code",
   "execution_count": 27,
   "id": "d4f0744b",
   "metadata": {},
   "outputs": [],
   "source": [
    "# Example 1: Calculate the sum \n",
    "sequence = [1,3,5,6,7,2,3]"
   ]
  },
  {
   "cell_type": "code",
   "execution_count": 28,
   "id": "20e79bc6",
   "metadata": {},
   "outputs": [
    {
     "data": {
      "text/plain": [
       "27"
      ]
     },
     "execution_count": 28,
     "metadata": {},
     "output_type": "execute_result"
    }
   ],
   "source": [
    "# Approach 1: Use reduce() in functools + lambda\n",
    "from functools import reduce\n",
    "reduce(lambda a,b: a+b, sequence)"
   ]
  },
  {
   "cell_type": "code",
   "execution_count": 29,
   "id": "7b8e335b",
   "metadata": {},
   "outputs": [
    {
     "data": {
      "text/plain": [
       "27"
      ]
     },
     "execution_count": 29,
     "metadata": {},
     "output_type": "execute_result"
    }
   ],
   "source": [
    "# Approach 2: Use sum()\n",
    "sum(sequence)"
   ]
  },
  {
   "cell_type": "code",
   "execution_count": 30,
   "id": "cedf7815",
   "metadata": {},
   "outputs": [
    {
     "data": {
      "text/plain": [
       "7"
      ]
     },
     "execution_count": 30,
     "metadata": {},
     "output_type": "execute_result"
    }
   ],
   "source": [
    "# Example 2: Find max\n",
    "reduce(lambda a,b: a if a>b else b, sequence)"
   ]
  },
  {
   "cell_type": "code",
   "execution_count": 31,
   "id": "ce69dee9",
   "metadata": {},
   "outputs": [
    {
     "data": {
      "text/plain": [
       "7"
      ]
     },
     "execution_count": 31,
     "metadata": {},
     "output_type": "execute_result"
    }
   ],
   "source": [
    "max(sequence)"
   ]
  }
 ],
 "metadata": {
  "kernelspec": {
   "display_name": "Python 3 (ipykernel)",
   "language": "python",
   "name": "python3"
  },
  "language_info": {
   "codemirror_mode": {
    "name": "ipython",
    "version": 3
   },
   "file_extension": ".py",
   "mimetype": "text/x-python",
   "name": "python",
   "nbconvert_exporter": "python",
   "pygments_lexer": "ipython3",
   "version": "3.10.8"
  }
 },
 "nbformat": 4,
 "nbformat_minor": 5
}
