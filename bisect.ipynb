{
 "cells": [
  {
   "cell_type": "markdown",
   "id": "8611d86a",
   "metadata": {},
   "source": [
    "# Bisect module"
   ]
  },
  {
   "cell_type": "markdown",
   "id": "8ffa69a3",
   "metadata": {},
   "source": [
    "The **bisect_left()** / **bisect_right()** method finds and returns the position at which an element can be inserted into a Python list while maintaining the sorted order of the Python list. If the list already has elements with the same value as the new element, the insertion point is to the **left** / **right** of first such element."
   ]
  },
  {
   "cell_type": "code",
   "execution_count": 1,
   "id": "4e442aba",
   "metadata": {},
   "outputs": [
    {
     "name": "stdout",
     "output_type": "stream",
     "text": [
      "Bisect left: Insert element 25 at index 5 in nums list to maintain sorted order.\n",
      "Bisect left: Insert element 26 at index 6 in nums list to maintain sorted order.\n",
      "Bisect left: Insert element 55 at index 7 in nums list to maintain sorted order.\n",
      "\n",
      "Bisect right: Insert element 25 at index 6 in nums list to maintain sorted order.\n",
      "Bisect right: Insert element 26 at index 6 in nums list to maintain sorted order.\n",
      "Bisect right: Insert element 55 at index 8 in nums list to maintain sorted order.\n"
     ]
    }
   ],
   "source": [
    "import bisect\n",
    "\n",
    "# sorted list of numbers\n",
    "nums = [1,3,5,7,10,25,49,55]\n",
    "\n",
    "# elements to be inserted into the list\n",
    "ele1 = 25\n",
    "ele2 = 26\n",
    "ele3 = 55\n",
    "\n",
    "# get index where to insert the elements\n",
    "idx1_left = bisect.bisect_left(nums, ele1)\n",
    "idx2_left = bisect.bisect_left(nums, ele2)\n",
    "idx3_left = bisect.bisect_left(nums, ele3)\n",
    "\n",
    "idx1_right = bisect.bisect_right(nums, ele1)\n",
    "idx2_right = bisect.bisect_right(nums, ele2)\n",
    "idx3_right = bisect.bisect_right(nums, ele3)\n",
    "\n",
    "# print the index\n",
    "print(f\"Bisect left: Insert element {ele1} at index {idx1_left} in nums list to maintain sorted order.\")\n",
    "print(f\"Bisect left: Insert element {ele2} at index {idx2_left} in nums list to maintain sorted order.\")\n",
    "print(f\"Bisect left: Insert element {ele3} at index {idx3_left} in nums list to maintain sorted order.\")\n",
    "print()\n",
    "print(f\"Bisect right: Insert element {ele1} at index {idx1_right} in nums list to maintain sorted order.\")\n",
    "print(f\"Bisect right: Insert element {ele2} at index {idx2_right} in nums list to maintain sorted order.\")\n",
    "print(f\"Bisect right: Insert element {ele3} at index {idx3_right} in nums list to maintain sorted order.\")"
   ]
  }
 ],
 "metadata": {
  "kernelspec": {
   "display_name": "Python 3 (ipykernel)",
   "language": "python",
   "name": "python3"
  },
  "language_info": {
   "codemirror_mode": {
    "name": "ipython",
    "version": 3
   },
   "file_extension": ".py",
   "mimetype": "text/x-python",
   "name": "python",
   "nbconvert_exporter": "python",
   "pygments_lexer": "ipython3",
   "version": "3.10.8"
  }
 },
 "nbformat": 4,
 "nbformat_minor": 5
}
