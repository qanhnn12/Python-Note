{
 "cells": [
  {
   "cell_type": "markdown",
   "id": "8ced2749",
   "metadata": {},
   "source": [
    "# File Objects: Reading and Writing to Files"
   ]
  },
  {
   "cell_type": "markdown",
   "id": "94f9ad9d",
   "metadata": {},
   "source": [
    "## Reading files"
   ]
  },
  {
   "cell_type": "code",
   "execution_count": 1,
   "id": "ea79da1d",
   "metadata": {},
   "outputs": [
    {
     "name": "stdout",
     "output_type": "stream",
     "text": [
      "test.txt\n"
     ]
    }
   ],
   "source": [
    "# Open a file (not recommended)\n",
    "f = open('test.txt', 'r')\n",
    "\n",
    "# Print the name of the file\n",
    "print(f.name)\n",
    "\n",
    "# Close the file\n",
    "f.close()"
   ]
  },
  {
   "cell_type": "code",
   "execution_count": 2,
   "id": "9395e6fc",
   "metadata": {},
   "outputs": [
    {
     "name": "stdout",
     "output_type": "stream",
     "text": [
      "True\n"
     ]
    }
   ],
   "source": [
    "# Use the context manager approach\n",
    "with open('test.txt', 'r') as f:\n",
    "    pass\n",
    "\n",
    "# Check if the file is closed\n",
    "print(f.closed)"
   ]
  },
  {
   "cell_type": "code",
   "execution_count": 3,
   "id": "a7009b02",
   "metadata": {},
   "outputs": [
    {
     "name": "stdout",
     "output_type": "stream",
     "text": [
      "1) This is a test file!\n",
      "2) With multiple lines of data...\n",
      "3) Third line\n",
      "4) Fourth line\n",
      "5) Fifth line\n",
      "6) Sixth line\n",
      "7) Seventh line\n",
      "8) Eighth line\n",
      "9) Ninth line\n",
      "10) Tenth line\n"
     ]
    }
   ],
   "source": [
    "# Print all the content in the file\n",
    "with open('test.txt', 'r') as f:\n",
    "    f_content = f.read()\n",
    "    print(f_content)"
   ]
  },
  {
   "cell_type": "code",
   "execution_count": 4,
   "id": "520df2ae",
   "metadata": {},
   "outputs": [
    {
     "name": "stdout",
     "output_type": "stream",
     "text": [
      "['1) This is a test file!\\n', '2) With multiple lines of data...\\n', '3) Third line\\n', '4) Fourth line\\n', '5) Fifth line\\n', '6) Sixth line\\n', '7) Seventh line\\n', '8) Eighth line\\n', '9) Ninth line\\n', '10) Tenth line']\n"
     ]
    }
   ],
   "source": [
    "# Print all the lines in the file\n",
    "with open('test.txt', 'r') as f:\n",
    "    f_content = f.readlines()\n",
    "    print(f_content)"
   ]
  },
  {
   "cell_type": "code",
   "execution_count": 5,
   "id": "e5b09a63",
   "metadata": {},
   "outputs": [
    {
     "name": "stdout",
     "output_type": "stream",
     "text": [
      "1) This is a test file!\n",
      "\n"
     ]
    }
   ],
   "source": [
    "# Print a single line in a file\n",
    "with open('test.txt', 'r') as f:\n",
    "    f_content = f.readline()\n",
    "    print(f_content)"
   ]
  },
  {
   "cell_type": "code",
   "execution_count": 9,
   "id": "a04f1299",
   "metadata": {},
   "outputs": [
    {
     "name": "stdout",
     "output_type": "stream",
     "text": [
      "1) This is a test file!\n",
      "2) With multiple lines of data...\n"
     ]
    }
   ],
   "source": [
    "# Print the next line in a file\n",
    "with open('test.txt', 'r') as f:\n",
    "    f_content = f.readline()\n",
    "    print(f_content, end='')\n",
    "    \n",
    "    f_content = f.readline()\n",
    "    print(f_content, end='')"
   ]
  },
  {
   "cell_type": "code",
   "execution_count": 11,
   "id": "804593fd",
   "metadata": {},
   "outputs": [
    {
     "name": "stdout",
     "output_type": "stream",
     "text": [
      "1) This is a test file!\n",
      "2) With multiple lines of data...\n",
      "3) Third line\n",
      "4) Fourth line\n",
      "5) Fifth line\n",
      "6) Sixth line\n",
      "7) Seventh line\n",
      "8) Eighth line\n",
      "9) Ninth line\n",
      "10) Tenth line"
     ]
    }
   ],
   "source": [
    "# Print the next line in a file\n",
    "with open('test.txt', 'r') as f:\n",
    "    for line in f:\n",
    "        print(line, end='')"
   ]
  },
  {
   "cell_type": "code",
   "execution_count": 12,
   "id": "73b20268",
   "metadata": {},
   "outputs": [
    {
     "name": "stdout",
     "output_type": "stream",
     "text": [
      "1) This is a test file!\n",
      "2) With multiple lines of data...\n",
      "3) Third line\n",
      "4) Fourth line\n",
      "5) Fifth line"
     ]
    }
   ],
   "source": [
    "# Print out the first 100 characters\n",
    "with open('test.txt', 'r') as f:\n",
    "    f_content = f.read(100)\n",
    "    print(f_content, end='')"
   ]
  },
  {
   "cell_type": "code",
   "execution_count": 14,
   "id": "63f86e5c",
   "metadata": {},
   "outputs": [
    {
     "name": "stdout",
     "output_type": "stream",
     "text": [
      "1) This is* a test fi*le!\n",
      "2) Wit*h multiple* lines of *data...\n",
      "3)* Third lin*e\n",
      "4) Fourt*h line\n",
      "5) *Fifth line*\n",
      "6) Sixth *line\n",
      "7) Se*venth line*\n",
      "8) Eighth* line\n",
      "9) N*inth line\n",
      "*10) Tenth *line*"
     ]
    }
   ],
   "source": [
    "with open('test.txt', 'r') as f:\n",
    "    size_to_read = 10\n",
    "    f_content = f.read(size_to_read)\n",
    "    \n",
    "    while len(f_content) > 0:\n",
    "        print(f_content, end='*')\n",
    "        \n",
    "        #The loop ends when it reaches the end of the file: len = 0\n",
    "        f_content = f.read(size_to_read)"
   ]
  },
  {
   "cell_type": "code",
   "execution_count": 16,
   "id": "0f267199",
   "metadata": {},
   "outputs": [
    {
     "name": "stdout",
     "output_type": "stream",
     "text": [
      "10\n"
     ]
    }
   ],
   "source": [
    "with open('test.txt', 'r') as f:\n",
    "    size_to_read = 10\n",
    "    \n",
    "    f_content = f.read(size_to_read)\n",
    "    print(f.tell())"
   ]
  },
  {
   "cell_type": "code",
   "execution_count": 18,
   "id": "5591c8d2",
   "metadata": {},
   "outputs": [
    {
     "name": "stdout",
     "output_type": "stream",
     "text": [
      "1) This is a test fi"
     ]
    }
   ],
   "source": [
    "# Print the first 20 characters\n",
    "with open('test.txt', 'r') as f:\n",
    "    size_to_read = 10\n",
    "    \n",
    "    f_content = f.read(size_to_read)\n",
    "    print(f_content, end='')\n",
    "    \n",
    "    f_content = f.read(size_to_read)\n",
    "    print(f_content, end='')"
   ]
  },
  {
   "cell_type": "code",
   "execution_count": 19,
   "id": "e57dd7bd",
   "metadata": {},
   "outputs": [
    {
     "name": "stdout",
     "output_type": "stream",
     "text": [
      "1) This is1) This is"
     ]
    }
   ],
   "source": [
    "with open('test.txt', 'r') as f:\n",
    "    size_to_read = 10\n",
    "    \n",
    "    f_content = f.read(size_to_read)\n",
    "    print(f_content, end='')\n",
    "    \n",
    "    # Set the writing position back to the beginning of the file\n",
    "    f.seek(0)\n",
    "    \n",
    "    f_content = f.read(size_to_read)\n",
    "    print(f_content, end='')"
   ]
  },
  {
   "cell_type": "markdown",
   "id": "e430fd32",
   "metadata": {},
   "source": [
    "## Writing files"
   ]
  },
  {
   "cell_type": "code",
   "execution_count": 29,
   "id": "3370ec3c",
   "metadata": {},
   "outputs": [],
   "source": [
    "# If the file doesn't exist, create a new one, otherwise overwrite it\n",
    "with open('test2.txt', 'w') as f:\n",
    "    pass"
   ]
  },
  {
   "cell_type": "code",
   "execution_count": 30,
   "id": "bb4d11f4",
   "metadata": {},
   "outputs": [],
   "source": [
    "with open('test2.txt', 'w') as f:\n",
    "    f.write('Text')\n",
    "    f.write('Text')"
   ]
  },
  {
   "cell_type": "code",
   "execution_count": 31,
   "id": "cfebd953",
   "metadata": {},
   "outputs": [
    {
     "name": "stdout",
     "output_type": "stream",
     "text": [
      "TextText\n"
     ]
    }
   ],
   "source": [
    "with open('test2.txt', 'r') as f:\n",
    "    print(f.read())"
   ]
  },
  {
   "cell_type": "code",
   "execution_count": 32,
   "id": "3305b989",
   "metadata": {},
   "outputs": [],
   "source": [
    "with open('test2.txt', 'w') as f:\n",
    "    f.write('Text')\n",
    "    f.seek(0)\n",
    "    f.write('R')"
   ]
  },
  {
   "cell_type": "code",
   "execution_count": 33,
   "id": "356bd3e5",
   "metadata": {},
   "outputs": [
    {
     "name": "stdout",
     "output_type": "stream",
     "text": [
      "Rext\n"
     ]
    }
   ],
   "source": [
    "with open('test2.txt', 'r') as f:\n",
    "    print(f.read())"
   ]
  },
  {
   "cell_type": "code",
   "execution_count": 37,
   "id": "b6283a35",
   "metadata": {},
   "outputs": [
    {
     "name": "stdout",
     "output_type": "stream",
     "text": [
      "test_copy.txt\n",
      "1) This is a test file!\n",
      "2) With multiple lines of data...\n",
      "3) Third line\n",
      "4) Fourth line\n",
      "5) Fifth line\n",
      "6) Sixth line\n",
      "7) Seventh line\n",
      "8) Eighth line\n",
      "9) Ninth line\n",
      "10) Tenth line\n"
     ]
    }
   ],
   "source": [
    "# Copy a file \n",
    "with open('test.txt', 'r') as rf:\n",
    "    with open('test_copy.txt', 'w') as wf:\n",
    "        for line in rf:\n",
    "            wf.write(line)\n",
    "\n",
    "# Check the result of 'test_copy' file\n",
    "with open('test_copy.txt', 'r') as f:\n",
    "    print(f.name)\n",
    "    print(f.read())"
   ]
  },
  {
   "cell_type": "code",
   "execution_count": 38,
   "id": "29bdbb7d",
   "metadata": {},
   "outputs": [],
   "source": [
    "# Open an image file\n",
    "with open('Wallpaper.jpg', 'rb') as rf:\n",
    "    with open('Wallpaper_copy.jpg', 'wb') as wf:\n",
    "        for line in rf:\n",
    "            wf.write(line)"
   ]
  },
  {
   "cell_type": "code",
   "execution_count": 40,
   "id": "284cbfe5",
   "metadata": {},
   "outputs": [
    {
     "name": "stdout",
     "output_type": "stream",
     "text": [
      "True\n"
     ]
    }
   ],
   "source": [
    "import os\n",
    "\n",
    "# Check if a file exists\n",
    "print(os.path.isfile('/Users/Admin/Wallpaper_copy.jpg'))"
   ]
  },
  {
   "cell_type": "code",
   "execution_count": 41,
   "id": "23a200fa",
   "metadata": {},
   "outputs": [],
   "source": [
    "# Copy a file\n",
    "with open('Wallpaper.jpg', 'rb') as rf:\n",
    "    with open('Wallpaper_copy1.jpg', 'wb') as wf:\n",
    "        chunk_size = 4096\n",
    "        rf_chunk = rf.read(chunk_size)\n",
    "        while len(rf_chunk) > 0:\n",
    "            wf.write(rf_chunk)\n",
    "            rf_chunk = rf.read(chunk_size)"
   ]
  },
  {
   "cell_type": "code",
   "execution_count": 42,
   "id": "7a7197be",
   "metadata": {},
   "outputs": [
    {
     "name": "stdout",
     "output_type": "stream",
     "text": [
      "True\n"
     ]
    }
   ],
   "source": [
    "# Check if a file exists\n",
    "print(os.path.isfile('/Users/Admin/Wallpaper_copy1.jpg'))"
   ]
  }
 ],
 "metadata": {
  "kernelspec": {
   "display_name": "Python 3 (ipykernel)",
   "language": "python",
   "name": "python3"
  },
  "language_info": {
   "codemirror_mode": {
    "name": "ipython",
    "version": 3
   },
   "file_extension": ".py",
   "mimetype": "text/x-python",
   "name": "python",
   "nbconvert_exporter": "python",
   "pygments_lexer": "ipython3",
   "version": "3.10.8"
  }
 },
 "nbformat": 4,
 "nbformat_minor": 5
}
